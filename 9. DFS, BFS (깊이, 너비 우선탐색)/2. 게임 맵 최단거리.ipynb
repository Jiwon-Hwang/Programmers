{
 "cells": [
  {
   "cell_type": "code",
   "execution_count": null,
   "id": "f83cb7ad",
   "metadata": {},
   "outputs": [],
   "source": [
    "from collections import deque\n",
    "\n",
    "def solution(maps):\n",
    "    dx = [0, 0, 1, -1] # 동서남북\n",
    "    dy = [1, -1, 0, 0]\n",
    "    \n",
    "    #visited = [[0]*len(maps[0])]*len(maps) # 최단거리 누적 => error!!! 정리하기!\n",
    "    visited = [[0]*len(maps[0]) for _ in range(len(maps))] # 최단거리 누적\n",
    "    queue = deque([[0, 0]])\n",
    "    visited[0][0] = 1\n",
    "    \n",
    "    while queue:\n",
    "        x, y = queue.popleft()\n",
    "        for i in range(4):\n",
    "            nx, ny = x+dx[i], y+dy[i]\n",
    "            if 0 <= nx < len(maps) and 0 <= ny < len(maps[0]):\n",
    "                if visited[nx][ny] == 0 and maps[nx][ny] == 1:\n",
    "                    queue.append([nx, ny])\n",
    "                    visited[nx][ny] += visited[x][y] + 1\n",
    "                    \n",
    "    answer = -1 if visited[-1][-1] == 0 else visited[-1][-1]\n",
    "    \n",
    "    return answer"
   ]
  }
 ],
 "metadata": {
  "kernelspec": {
   "display_name": "Python 3",
   "language": "python",
   "name": "python3"
  },
  "language_info": {
   "codemirror_mode": {
    "name": "ipython",
    "version": 3
   },
   "file_extension": ".py",
   "mimetype": "text/x-python",
   "name": "python",
   "nbconvert_exporter": "python",
   "pygments_lexer": "ipython3",
   "version": "3.8.8"
  }
 },
 "nbformat": 4,
 "nbformat_minor": 5
}
