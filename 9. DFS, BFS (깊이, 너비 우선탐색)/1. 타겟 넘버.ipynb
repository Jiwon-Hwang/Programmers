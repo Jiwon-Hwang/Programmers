{
 "cells": [
  {
   "cell_type": "markdown",
   "metadata": {},
   "source": [
    "## python - 중복 순열 (itertools - product)"
   ]
  },
  {
   "cell_type": "code",
   "execution_count": null,
   "metadata": {},
   "outputs": [],
   "source": [
    "# sol1 (더 빠름, itertools의 product 사용 => 중복순열)\n",
    "from itertools import product\n",
    "\n",
    "def solution(numbers, target):\n",
    "    tuple_list = [(x, -x) for x in numbers]\n",
    "    sum_list = list(map(sum, product(*tuple_list)))\n",
    "    return sum_list.count(target)"
   ]
  },
  {
   "cell_type": "code",
   "execution_count": 1,
   "metadata": {},
   "outputs": [
    {
     "name": "stdout",
     "output_type": "stream",
     "text": [
      "[(4, -4), (1, -1), (2, -2), (1, -1)]\n",
      "[(4, 1, 2, 1), (4, 1, 2, -1), (4, 1, -2, 1), (4, 1, -2, -1), (4, -1, 2, 1), (4, -1, 2, -1), (4, -1, -2, 1), (4, -1, -2, -1), (-4, 1, 2, 1), (-4, 1, 2, -1), (-4, 1, -2, 1), (-4, 1, -2, -1), (-4, -1, 2, 1), (-4, -1, 2, -1), (-4, -1, -2, 1), (-4, -1, -2, -1)]\n",
      "[8, 6, 4, 2, 6, 4, 2, 0, 0, -2, -4, -6, -2, -4, -6, -8]\n"
     ]
    },
    {
     "data": {
      "text/plain": [
       "2"
      ]
     },
     "execution_count": 1,
     "metadata": {},
     "output_type": "execute_result"
    }
   ],
   "source": [
    "from itertools import product\n",
    "\n",
    "def solution(numbers, target):\n",
    "    tuple_list = [(x, -x) for x in numbers]\n",
    "    product_list = list(product(*tuple_list))\n",
    "    sum_list = list(map(sum, product(*tuple_list)))\n",
    "    \n",
    "    print(tuple_list)\n",
    "    print(product_list)\n",
    "    print(sum_list)\n",
    "    \n",
    "    return sum_list.count(target)\n",
    "\n",
    "solution([4, 1, 2, 1], 4)"
   ]
  },
  {
   "cell_type": "markdown",
   "metadata": {},
   "source": [
    "## python - dfs (재귀, global)"
   ]
  },
  {
   "cell_type": "code",
   "execution_count": null,
   "metadata": {},
   "outputs": [],
   "source": [
    "# sol2 (dfs => 재귀, 전역변수 이용)\n",
    "cnt = 0\n",
    "def dfs(numbers, i, tmp_sum, target):\n",
    "    global cnt # 전역변수\n",
    "    if i == len(numbers) and tmp_sum == target:\n",
    "        cnt += 1\n",
    "        return\n",
    "    if i == len(numbers):\n",
    "        return\n",
    "    \n",
    "    dfs(numbers, i+1, tmp_sum+numbers[i], target)\n",
    "    dfs(numbers, i+1, tmp_sum-numbers[i], target)\n",
    "\n",
    "def solution(numbers, target):\n",
    "    global cnt # 전역변수\n",
    "    dfs(numbers, 0, 0, target)\n",
    "    return cnt"
   ]
  },
  {
   "cell_type": "markdown",
   "metadata": {},
   "source": [
    "### 전역변수(global) 선언 위치\n",
    "* 함수 안 \n",
    "* 함수 밖  \n",
    "> **함수 안에서 global 선언 안해주면, 함수 안에선 무조건 지역 변수!**"
   ]
  },
  {
   "cell_type": "code",
   "execution_count": 1,
   "metadata": {},
   "outputs": [
    {
     "name": "stdout",
     "output_type": "stream",
     "text": [
      "5\n",
      "3\n"
     ]
    }
   ],
   "source": [
    "# 함수 안 => 무조건 global 선언 해줘야 함수 안에서 지역 변수로 안쓰임!\n",
    "def test():\n",
    "    global a # 전역변수\n",
    "    a = 3    # 전역변수\n",
    "    b = 2\n",
    " \n",
    "    return a + b\n",
    " \n",
    "print(test())\n",
    "print(a)"
   ]
  },
  {
   "cell_type": "code",
   "execution_count": 2,
   "metadata": {},
   "outputs": [
    {
     "name": "stdout",
     "output_type": "stream",
     "text": [
      "5\n",
      "3\n"
     ]
    }
   ],
   "source": [
    "# 함수 밖 - 밖과 안에서 모두 global 선언\n",
    "global a\n",
    "a = 1\n",
    " \n",
    "def test():\n",
    "    global a\n",
    "    a = 3\n",
    "    b = 2\n",
    " \n",
    "    return a + b\n",
    "\n",
    "print(test())\n",
    "print(a)"
   ]
  },
  {
   "cell_type": "code",
   "execution_count": 11,
   "metadata": {},
   "outputs": [
    {
     "name": "stdout",
     "output_type": "stream",
     "text": [
      "5\n",
      "1\n"
     ]
    }
   ],
   "source": [
    "# 함수 밖에서만 하면 함수 내부는 그냥 지역 변수!\n",
    "global a\n",
    "a = 1\n",
    " \n",
    "def test():\n",
    "    a = 3\n",
    "    b = 2\n",
    " \n",
    "    return a + b\n",
    "\n",
    "print(test())\n",
    "print(a)"
   ]
  },
  {
   "cell_type": "code",
   "execution_count": 10,
   "metadata": {},
   "outputs": [
    {
     "name": "stdout",
     "output_type": "stream",
     "text": [
      "1\n",
      "0\n",
      "5\n",
      "3\n",
      "0\n"
     ]
    }
   ],
   "source": [
    "# 함수 밖에선 global 선언 x 인 전역변수 (함수 안에서만 global 선언)\n",
    "a = 1 # 전역변수 \n",
    " \n",
    "def test():\n",
    "    global a # 전역변수\n",
    "    a = 3     # 전역변수\n",
    "    b = 2\n",
    " \n",
    "    return a + b\n",
    "\n",
    "print(a)\n",
    "a = 0\n",
    "print(a)\n",
    "print(test())\n",
    "print(a)\n",
    "a = 0\n",
    "print(a)"
   ]
  },
  {
   "cell_type": "code",
   "execution_count": 5,
   "metadata": {},
   "outputs": [
    {
     "name": "stdout",
     "output_type": "stream",
     "text": [
      "5\n",
      "1\n"
     ]
    }
   ],
   "source": [
    "# 전역변수 사용 x 시\n",
    "a = 1\n",
    " \n",
    "def test():\n",
    "    a = 3\n",
    "    b = 2\n",
    " \n",
    "    return a + b\n",
    "\n",
    "print(test())\n",
    "print(a)"
   ]
  },
  {
   "cell_type": "markdown",
   "metadata": {},
   "source": [
    "<hr>"
   ]
  },
  {
   "cell_type": "markdown",
   "metadata": {},
   "source": [
    "## c++ \n",
    "\n",
    "```c++\n",
    "#include <string>\n",
    "#include <vector>\n",
    "\n",
    "using namespace std;\n",
    "\n",
    "//벡터, 정답횟수, 찾아야 하는 숫자, 들어간 깊이, 현재까지 합\n",
    "void dfs(vector<int>& numbers, int& answer, int target, int count = 0, int sum = 0){\n",
    "    //마지막까지 순회했다면\n",
    "    if (count == numbers.size() - 1) {\n",
    "        //지금까지 더한값에 마지막 원소를 더할때 타겟과 같다면 카운트 증가\n",
    "        if (target == sum + numbers[count])        answer++;\n",
    "        //지금까지 더한값에 마지막 원소를 뺄때 타겟과 같다면 카운트 증가\n",
    "        if (target == sum - numbers[count])        answer++;\n",
    "        return;\n",
    "    }\n",
    "    //최대깊이까지 가지않았다면 더하거나 뺀상태로 탐색\n",
    "    dfs(numbers, answer, target, count + 1, sum + numbers[count]);\n",
    "    dfs(numbers, answer, target, count + 1, sum - numbers[count]);\n",
    "}\n",
    " \n",
    "int solution(vector<int> numbers, int target) {\n",
    "    int answer = 0;\n",
    "    dfs(numbers, answer, target);\n",
    "    return answer;\n",
    "}\n",
    "```\n"
   ]
  }
 ],
 "metadata": {
  "kernelspec": {
   "display_name": "Python 3",
   "language": "python",
   "name": "python3"
  },
  "language_info": {
   "codemirror_mode": {
    "name": "ipython",
    "version": 3
   },
   "file_extension": ".py",
   "mimetype": "text/x-python",
   "name": "python",
   "nbconvert_exporter": "python",
   "pygments_lexer": "ipython3",
   "version": "3.7.3"
  }
 },
 "nbformat": 4,
 "nbformat_minor": 2
}
