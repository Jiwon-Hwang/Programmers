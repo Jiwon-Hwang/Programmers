{
 "cells": [
  {
   "cell_type": "code",
   "execution_count": null,
   "id": "6dd37738",
   "metadata": {},
   "outputs": [],
   "source": [
    "# bfs => 큐 이용\n",
    "from collections import deque\n",
    "\n",
    "def isPossible(word1, word2):\n",
    "    cnt = 0\n",
    "    for a1, a2 in zip(word1, word2):\n",
    "        if a1 != a2:\n",
    "            cnt += 1\n",
    "    \n",
    "    return True if cnt == 1 else False\n",
    "    \n",
    "def solution(begin, target, words):\n",
    "    cnt = 0\n",
    "    queue = deque([[begin]]) # [[\"hit\"], [\"hot\"], [\"dot\", \"lot\"], [\"hot\", \"dog\", \"lot\", ~~~], []]\n",
    "    \n",
    "    if target not in words: return 0\n",
    "    \n",
    "    while queue:\n",
    "        now_list = queue.popleft() # list\n",
    "        \n",
    "        tmp = [] # 같은 레벨 있는 애들 싸그리 납치\n",
    "        for now in now_list:\n",
    "            if now == target: \n",
    "                return cnt\n",
    "\n",
    "            for word in words:\n",
    "                if isPossible(now, word):\n",
    "                    tmp.append(word)\n",
    "        \n",
    "        # 예외처리\n",
    "        if tmp:\n",
    "            queue.append(tmp)\n",
    "            cnt += 1\n",
    "            if cnt == len(words) + 1:\n",
    "                return 0\n",
    "        else:\n",
    "            return 0\n",
    "    \n",
    "    return cnt"
   ]
  }
 ],
 "metadata": {
  "kernelspec": {
   "display_name": "Python 3",
   "language": "python",
   "name": "python3"
  },
  "language_info": {
   "codemirror_mode": {
    "name": "ipython",
    "version": 3
   },
   "file_extension": ".py",
   "mimetype": "text/x-python",
   "name": "python",
   "nbconvert_exporter": "python",
   "pygments_lexer": "ipython3",
   "version": "3.8.8"
  }
 },
 "nbformat": 4,
 "nbformat_minor": 5
}
