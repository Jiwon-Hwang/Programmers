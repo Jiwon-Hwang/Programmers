{
 "cells": [
  {
   "cell_type": "code",
   "execution_count": 36,
   "id": "de9fe484",
   "metadata": {},
   "outputs": [],
   "source": [
    "from collections import deque\n",
    "\n",
    "def check2x2(i, j, m, n, board):\n",
    "    if i+1 in range(0, m) and j+1 in range(0, n):\n",
    "        if board[i][j] == board[i][j+1] == board[i+1][j] == board[i+1][j+1]:\n",
    "            return True\n",
    "    return False\n",
    "\n",
    "def replaceTo0(board, visited):\n",
    "    for x, y in visited:\n",
    "        board[x][y] = 0\n",
    "\n",
    "def pop_board(m, n, board):\n",
    "    for j in range(n):\n",
    "        tmp_list = [board[k][j] for k in range(m) if board[k][j] != 0]\n",
    "        zero_cnt = m - len(tmp_list)\n",
    "        for i in range(m):\n",
    "            board[i][j] = 0 if i < zero_cnt else tmp_list[i-zero_cnt]\n",
    "            \n",
    "        #board[:][j] = [0] * board[:][j].count(0) + tmp_list # 왜 안됨? (열 추출)\n",
    "        \n",
    "def pop2x2(m, n, board):\n",
    "    dx = [0, 1, 1]\n",
    "    dy = [1, 0, 1]\n",
    "    \n",
    "    pop_num = 0\n",
    "    \n",
    "    for i in range(m):\n",
    "        for j in range(n):\n",
    "            if board[i][j] == 0:\n",
    "                continue\n",
    "            if check2x2(i, j, m, n, board):\n",
    "                # bfs\n",
    "                queue = deque()\n",
    "                queue.append([i, j])\n",
    "                visited = set()\n",
    "                visited.add((i, j))\n",
    "                \n",
    "                while queue:\n",
    "                    x, y = queue.popleft()\n",
    "                    for k in range(3):\n",
    "                        nx = x + dx[k]\n",
    "                        ny = y + dy[k]\n",
    "                        if nx in range(0, m) and ny in range(0, n):\n",
    "                            if (nx, ny) not in visited:\n",
    "                                visited.add((nx, ny))\n",
    "                                if check2x2(nx, ny, m, n, board):\n",
    "                                    queue.append([nx, ny])\n",
    "                pop_num += len(visited)\n",
    "                \n",
    "                replaceTo0(board, visited)\n",
    "                \n",
    "    pop_board(m, n, board) # 한 step에서 여러 군데 한번에 모아서 pop 해야됨!!\n",
    "                \n",
    "    return pop_num\n",
    "\n",
    "\n",
    "def solution(m, n, board):\n",
    "    # replace str to arr\n",
    "    board = list(map(list, board))\n",
    "    \n",
    "    cnt = 0   \n",
    "    while True:\n",
    "        tmp_cnt = pop2x2(m, n, board)\n",
    "        \n",
    "        if tmp_cnt == 0:\n",
    "            break\n",
    "        cnt += tmp_cnt\n",
    "    \n",
    "    return cnt"
   ]
  },
  {
   "cell_type": "code",
   "execution_count": 37,
   "id": "61bb20c4",
   "metadata": {
    "scrolled": true
   },
   "outputs": [
    {
     "data": {
      "text/plain": [
       "15"
      ]
     },
     "execution_count": 37,
     "metadata": {},
     "output_type": "execute_result"
    }
   ],
   "source": [
    "solution(6, 6, [\"TTTANT\", \"RRFACC\", \"RRRFCC\", \"TRRRAA\", \"TTMMMF\", \"TMMTTJ\"])"
   ]
  },
  {
   "cell_type": "code",
   "execution_count": 17,
   "id": "b3eed308",
   "metadata": {},
   "outputs": [
    {
     "name": "stdout",
     "output_type": "stream",
     "text": [
      "[['T', 'T', 'T', 'A', 'N', 'T'], ['R', 'R', 'F', 'A', 'C', 'C'], ['R', 'R', 'R', 'F', 'C', 'C'], ['T', 'R', 'R', 'R', 'A', 'A'], ['T', 'T', 'M', 'M', 'M', 'F'], ['T', 'M', 'M', 'T', 'T', 'J']]\n"
     ]
    }
   ],
   "source": [
    "board = [\"TTTANT\", \"RRFACC\", \"RRRFCC\", \"TRRRAA\", \"TTMMMF\", \"TMMTTJ\"]\n",
    "board = list(map(list, board))\n",
    "print(board)"
   ]
  }
 ],
 "metadata": {
  "kernelspec": {
   "display_name": "Python 3 (ipykernel)",
   "language": "python",
   "name": "python3"
  },
  "language_info": {
   "codemirror_mode": {
    "name": "ipython",
    "version": 3
   },
   "file_extension": ".py",
   "mimetype": "text/x-python",
   "name": "python",
   "nbconvert_exporter": "python",
   "pygments_lexer": "ipython3",
   "version": "3.9.12"
  }
 },
 "nbformat": 4,
 "nbformat_minor": 5
}
