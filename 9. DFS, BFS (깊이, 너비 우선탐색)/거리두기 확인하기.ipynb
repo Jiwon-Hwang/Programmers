{
 "cells": [
  {
   "cell_type": "code",
   "execution_count": null,
   "id": "0651d0b7",
   "metadata": {},
   "outputs": [],
   "source": [
    "from collections import deque\n",
    "\n",
    "def bfs(graph):\n",
    "    dx = [0, 0, 1, -1]\n",
    "    dy = [1, -1, 0, 0]\n",
    "    \n",
    "    for i in range(5):\n",
    "        for j in range(5):\n",
    "            if graph[i][j] == 'P':\n",
    "                queue = deque()\n",
    "                queue.append((i, j, 0))\n",
    "                visited = set()\n",
    "                visited.add((i, j))\n",
    "                \n",
    "                while queue:\n",
    "                    x, y, d = queue.popleft()\n",
    "                    for k in range(4):\n",
    "                        nx = x + dx[k]\n",
    "                        ny = y + dy[k]\n",
    "                        nd = d + 1\n",
    "                        if nx in range(0, 5) and ny in range(0, 5) and (nx, ny) not in visited:\n",
    "                            visited.add((nx, ny))\n",
    "                            if graph[nx][ny] == 'P':\n",
    "                                if nd <= 2: # 따라서 nd가 1이든 2든 둘 다 X!\n",
    "                                    return 0\n",
    "                                \n",
    "                            elif graph[nx][ny] == 'O' and nd == 1: # O가 바로 옆에 하나라도 있던애들이 큐에 있는 것\n",
    "                                # 탐색 가능한(유망한) 방향이면 큐에 추가\n",
    "                                queue.append((nx, ny, nd))\n",
    "                                               \n",
    "    return 1\n",
    "\n",
    "def solution(places):\n",
    "    answer = []\n",
    "    for i in range(5):\n",
    "        answer.append(bfs(places[i]))\n",
    "    \n",
    "    return answer"
   ]
  }
 ],
 "metadata": {
  "kernelspec": {
   "display_name": "Python 3",
   "language": "python",
   "name": "python3"
  },
  "language_info": {
   "codemirror_mode": {
    "name": "ipython",
    "version": 3
   },
   "file_extension": ".py",
   "mimetype": "text/x-python",
   "name": "python",
   "nbconvert_exporter": "python",
   "pygments_lexer": "ipython3",
   "version": "3.8.8"
  }
 },
 "nbformat": 4,
 "nbformat_minor": 5
}
