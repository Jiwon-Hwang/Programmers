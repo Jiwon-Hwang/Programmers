{
 "cells": [
  {
   "cell_type": "markdown",
   "id": "f09a806f",
   "metadata": {},
   "source": [
    "## 개념 정리할 것\n",
    "* collections - defualtdict()\n",
    "* 재귀 과정 print 결과들 캡쳐\n",
    "    * if문으로 예외처리 해줬을 때\n",
    "    * 안해줬을 때"
   ]
  },
  {
   "cell_type": "code",
   "execution_count": null,
   "id": "7a1f4919",
   "metadata": {},
   "outputs": [],
   "source": [
    "# collections - defaultdict()를 이용한 초기화!\n",
    "'''\n",
    "for ticket in tickets:\n",
    "    if ticket[0] in tickets_dict:\n",
    "        #bisect.insort(tickets_dict[ticket[0]], ticket[1])\n",
    "        tickets_dict[ticket[0]].append([ticket[1], False])\n",
    "        continue\n",
    "    tickets_dict[ticket[0]] = [[ticket[1], False]]\n",
    "\n",
    "for key in tickets_dict:\n",
    "    tickets_dict[key].sort()\n",
    "'''\n",
    "\n",
    "for key, value in tickets:\n",
    "    tickets_dict[key].append(value)\n",
    "for key in tickets_dict:\n",
    "    tickets_dict[key].sort()"
   ]
  },
  {
   "cell_type": "code",
   "execution_count": 17,
   "id": "f0b93c86",
   "metadata": {},
   "outputs": [
    {
     "name": "stdout",
     "output_type": "stream",
     "text": [
      "{'ICN': ['ATL', 'SFO'], 'SFO': ['ATL'], 'ATL': ['ICN', 'SFO']}\n",
      "{'ICN': [False, False], 'SFO': [False], 'ATL': [False, False]}\n"
     ]
    }
   ],
   "source": [
    "from collections import defaultdict\n",
    "\n",
    "answer = []\n",
    "tickets_dict = defaultdict(list)\n",
    "visited_dict = defaultdict(list)\n",
    "n = 0\n",
    "\n",
    "tickets = [[\"ICN\", \"SFO\"], [\"ICN\", \"ATL\"], [\"SFO\", \"ATL\"], [\"ATL\", \"ICN\"], [\"ATL\",\"SFO\"]]\n",
    "for key, value in tickets:\n",
    "    tickets_dict[key].append(value)\n",
    "    visited_dict[key].append(False)\n",
    "    \n",
    "for key in tickets_dict:\n",
    "    tickets_dict[key].sort()\n",
    "print(dict(tickets_dict))\n",
    "print(dict(visited_dict))"
   ]
  },
  {
   "cell_type": "code",
   "execution_count": 18,
   "id": "fca162d5",
   "metadata": {},
   "outputs": [
    {
     "name": "stdout",
     "output_type": "stream",
     "text": [
      "['ICN'] {'ICN': [False, False], 'SFO': [False], 'ATL': [False, False]}\n",
      "['ICN', 'ATL'] {'ICN': [True, False], 'SFO': [False], 'ATL': [False, False]}\n",
      "['ICN', 'ATL', 'ICN'] {'ICN': [True, False], 'SFO': [False], 'ATL': [True, False]}\n",
      "['ICN', 'ATL', 'ICN', 'SFO'] {'ICN': [True, True], 'SFO': [False], 'ATL': [True, False]}\n",
      "['ICN', 'ATL', 'ICN', 'SFO', 'ATL'] {'ICN': [True, True], 'SFO': [True], 'ATL': [True, False]}\n",
      "['ICN', 'ATL', 'ICN', 'SFO', 'ATL', 'SFO'] {'ICN': [True, True], 'SFO': [True], 'ATL': [True, True]}\n",
      "['ICN', 'ATL', 'SFO'] {'ICN': [True, False], 'SFO': [False], 'ATL': [False, True]}\n",
      "['ICN', 'SFO'] {'ICN': [False, True], 'SFO': [False], 'ATL': [False, False]}\n"
     ]
    },
    {
     "data": {
      "text/plain": [
       "['ICN', 'ATL', 'ICN', 'SFO', 'ATL', 'SFO']"
      ]
     },
     "execution_count": 18,
     "metadata": {},
     "output_type": "execute_result"
    }
   ],
   "source": [
    "# sol1) dfs(재귀)\n",
    "\n",
    "from collections import defaultdict\n",
    "\n",
    "answer = [] # answer에 경로 누적, answer[-1]을 src로 재귀\n",
    "graph = defaultdict(list)\n",
    "visited = defaultdict(list)\n",
    "n = 0\n",
    "\n",
    "def dfs(src, tmp_route):\n",
    "    print(tmp_route, dict(visited))\n",
    "    \n",
    "    if len(tmp_route) == n+1: # tmp_route가 이제 최종 답!\n",
    "        global answer\n",
    "        answer = tmp_route\n",
    "        return\n",
    "    \n",
    "    if len(answer): # sort 해줬으므로, 1개의 답(route)만 answer이 되고 끝내도록! (위에 if문에서 answer이 저장되었으면 pass)\n",
    "        return\n",
    "    \n",
    "    for i in range(len(graph[src])):\n",
    "        if visited[src][i] == False:\n",
    "            visited[src][i] = True\n",
    "            dfs(graph[src][i], tmp_route+[graph[src][i]])\n",
    "            visited[src][i] = False # 안돼서 돌아왔을 경우 다시 방문 x 처리 (티켓 사용 취소)\n",
    "    \n",
    "    \n",
    "def solution(tickets):\n",
    "    global n\n",
    "    n = len(tickets)\n",
    "    \n",
    "    for key, value in tickets:\n",
    "        graph[key].append(value)\n",
    "        visited[key].append(False)\n",
    "    for key in graph:\n",
    "        graph[key].sort()\n",
    "        \n",
    "    dfs(\"ICN\", [\"ICN\"]) # dfs(start_node, tmp_route_list) => answer은 맨 마지막 최종 답일때 append!\n",
    "    \n",
    "    return answer\n",
    "\n",
    "solution([[\"ICN\", \"SFO\"], [\"ICN\", \"ATL\"], [\"SFO\", \"ATL\"], [\"ATL\", \"ICN\"], [\"ATL\",\"SFO\"]])"
   ]
  },
  {
   "cell_type": "code",
   "execution_count": null,
   "id": "44e1597b",
   "metadata": {},
   "outputs": [],
   "source": [
    "# sol2) dfs(스택)\n",
    "from collections import defaultdict\n",
    "answer = []\n",
    "graph = defaultdict(list)\n",
    "\n",
    "def solution(tickets):\n",
    "    for key, value in tickets:\n",
    "        graph[key].append(value)\n",
    "    for key in graph:\n",
    "        graph[key].sort(reverse=True)\n",
    "    print(\"graph : \", dict(graph))\n",
    "    print()\n",
    "    \n",
    "    stack = [\"ICN\"]\n",
    "    while stack:\n",
    "        print(\"stack : \", stack)\n",
    "        tmp = stack[-1]\n",
    "        # tmp에서 출발하는 표가 아예 없거나, 있었는데 다 썼을 경우 => 최종 answer에 추가 (끝부터 방문)\n",
    "        if (tmp not in graph) or (not graph[tmp]):\n",
    "            answer.append(stack.pop()) # 임시 스택에서 제거\n",
    "            print(\"answer : \", answer)\n",
    "        # tmp에서 출발하는 표가 있을 경우\n",
    "        else:\n",
    "            stack.append(graph[tmp].pop()) # 티켓들 중 알파벳 작은 것을 먼저 pop (내림차순 정렬 상태이므로 pop으로 제거해도 됨)\n",
    "            \n",
    "    \n",
    "    return answer[::-1]\n",
    "    "
   ]
  },
  {
   "cell_type": "code",
   "execution_count": 20,
   "id": "aebe1ec9",
   "metadata": {},
   "outputs": [
    {
     "name": "stdout",
     "output_type": "stream",
     "text": [
      "True\n",
      "False\n"
     ]
    }
   ],
   "source": [
    "print(not [])\n",
    "print(bool(len([])))"
   ]
  }
 ],
 "metadata": {
  "kernelspec": {
   "display_name": "Python 3",
   "language": "python",
   "name": "python3"
  },
  "language_info": {
   "codemirror_mode": {
    "name": "ipython",
    "version": 3
   },
   "file_extension": ".py",
   "mimetype": "text/x-python",
   "name": "python",
   "nbconvert_exporter": "python",
   "pygments_lexer": "ipython3",
   "version": "3.8.8"
  }
 },
 "nbformat": 4,
 "nbformat_minor": 5
}
