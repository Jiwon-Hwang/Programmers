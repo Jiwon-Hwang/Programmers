{
 "cells": [
  {
   "cell_type": "code",
   "execution_count": null,
   "id": "c7977cb3",
   "metadata": {},
   "outputs": [],
   "source": [
    "# 2019 카카오 개발자 겨울 인턴십\n",
    "\n",
    "from itertools import product\n",
    "\n",
    "def isPossible(user_id, banned_id):\n",
    "    if len(user_id) != len(banned_id):\n",
    "        return False\n",
    "    for i in range(len(banned_id)):\n",
    "        if banned_id[i] == '*':\n",
    "            continue\n",
    "        elif banned_id[i] != user_id[i]:\n",
    "            return False\n",
    "        \n",
    "    return True\n",
    "\n",
    "def solution(user_id, banned_id):\n",
    "    \n",
    "    can_banned = []\n",
    "    for i in range(len(banned_id)):\n",
    "        can_banned_tmp = []\n",
    "        for j in range(len(user_id)):\n",
    "            if isPossible(user_id[j], banned_id[i]):\n",
    "                can_banned_tmp.append(user_id[j])\n",
    "        can_banned.append(can_banned_tmp)\n",
    "    \n",
    "    # 오답 (test case 5번 시간초과)\n",
    "    #product_list = set([''.join(sorted(list(item))) for item in list(map(set, list(product(*can_banned)))) if len(item) == len(banned_id)])\n",
    "    \n",
    "    # 정답\n",
    "    product_set = set()\n",
    "    \n",
    "    for item in map(set, product(*can_banned)):\n",
    "        if len(item) == len(banned_id):\n",
    "            if ''.join(sorted(list(item))) not in product_set:\n",
    "                product_set.add(''.join(sorted(list(item))))\n",
    "                                \n",
    "                                \n",
    "    return len(product_set)"
   ]
  }
 ],
 "metadata": {
  "kernelspec": {
   "display_name": "Python 3",
   "language": "python",
   "name": "python3"
  },
  "language_info": {
   "codemirror_mode": {
    "name": "ipython",
    "version": 3
   },
   "file_extension": ".py",
   "mimetype": "text/x-python",
   "name": "python",
   "nbconvert_exporter": "python",
   "pygments_lexer": "ipython3",
   "version": "3.8.8"
  }
 },
 "nbformat": 4,
 "nbformat_minor": 5
}
