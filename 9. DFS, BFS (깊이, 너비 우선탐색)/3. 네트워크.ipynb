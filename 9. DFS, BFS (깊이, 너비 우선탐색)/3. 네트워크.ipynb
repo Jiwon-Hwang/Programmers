{
 "cells": [
  {
   "cell_type": "code",
   "execution_count": null,
   "id": "24bd3a4a",
   "metadata": {},
   "outputs": [],
   "source": [
    "# dfs => 인접행렬(computers) & 스택(list) & visited(T/F) 이용\n",
    "def solution(n, computers):\n",
    "    visited = [False] * n\n",
    "    stack = []\n",
    "    cnt = 0\n",
    "    \n",
    "    for i in range(len(visited)):\n",
    "        if visited[i] == False:\n",
    "            cnt += 1\n",
    "            stack.append(i)\n",
    "            \n",
    "            while stack:\n",
    "                now = stack.pop()\n",
    "                if visited[now] == False:\n",
    "                    visited[now] = True\n",
    "                    for i in range(n):\n",
    "                        if computers[now][i] == 1 and i != now:\n",
    "                            stack.append(i)\n",
    "                \n",
    "    return cnt"
   ]
  }
 ],
 "metadata": {
  "kernelspec": {
   "display_name": "Python 3",
   "language": "python",
   "name": "python3"
  },
  "language_info": {
   "codemirror_mode": {
    "name": "ipython",
    "version": 3
   },
   "file_extension": ".py",
   "mimetype": "text/x-python",
   "name": "python",
   "nbconvert_exporter": "python",
   "pygments_lexer": "ipython3",
   "version": "3.8.8"
  }
 },
 "nbformat": 4,
 "nbformat_minor": 5
}
