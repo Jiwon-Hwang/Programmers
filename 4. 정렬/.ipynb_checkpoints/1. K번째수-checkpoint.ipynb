{
 "cells": [
  {
   "cell_type": "code",
   "execution_count": null,
   "metadata": {},
   "outputs": [],
   "source": [
    "# 정답!\n",
    "def solution(array, commands):\n",
    "    answer = []\n",
    "    for command in commands:\n",
    "        arr_tmp = array\n",
    "        arr_tmp = arr_tmp[command[0]-1:command[1]]\n",
    "        arr_tmp.sort()\n",
    "        answer.append(arr_tmp[command[2]-1])\n",
    "        \n",
    "    return answer"
   ]
  },
  {
   "cell_type": "code",
   "execution_count": null,
   "metadata": {},
   "outputs": [],
   "source": [
    "# 다른 풀이1 ==> lambda\n",
    "def solution(array, commands):\n",
    "    return list(map(lambda x:sorted(array[x[0]-1:x[1]])[x[2]-1], commands))"
   ]
  },
  {
   "cell_type": "code",
   "execution_count": null,
   "metadata": {},
   "outputs": [],
   "source": [
    "# 다른 풀이2 ==> 리스트 내포\n",
    "def solution(array, commands):\n",
    "    return [sorted(array[x[0]-1:x[1]])[x[2]-1] for x in commands]"
   ]
  },
  {
   "cell_type": "code",
   "execution_count": 2,
   "metadata": {
    "scrolled": true
   },
   "outputs": [
    {
     "name": "stdout",
     "output_type": "stream",
     "text": [
      "[20, 30]\n"
     ]
    }
   ],
   "source": [
    "c = [1,2,3]\n",
    "arr = [10,20,30,40,50]\n",
    "arr = arr[c[0]:c[2]]\n",
    "print(arr)"
   ]
  },
  {
   "cell_type": "markdown",
   "metadata": {},
   "source": [
    "<hr>"
   ]
  },
  {
   "cell_type": "markdown",
   "metadata": {},
   "source": [
    "## < map(함수, 반복가능한 객체) >\n",
    "* 반복가능한 객체(ex. list, tuple 등)의 **각 요소들**에 모두 특정 **함수**를 적용해준다.\n",
    "* 꼭 앞에 **list()함수와 같이** 써줘야 출력 가능하다!\n",
    "    * map()의 return 값은 map객체(object)이므로, list()함수를 통해 리스트형으로 변환해주어야 함."
   ]
  },
  {
   "cell_type": "code",
   "execution_count": 7,
   "metadata": {},
   "outputs": [
    {
     "name": "stdout",
     "output_type": "stream",
     "text": [
      "['1', '2', '3']\n",
      "[1, 2, 3]\n",
      "[2, 4, 6]\n"
     ]
    }
   ],
   "source": [
    "arr = ['1', '2', '3']\n",
    "print(arr)\n",
    "\n",
    "arr1 = list(map(int, arr))\n",
    "print(arr1)\n",
    "\n",
    "arr2 = list(map(lambda x : x*2, arr1)) # arr1의 각 요소를 매개변수로 x를 받아서 x*2 값으로 return한다.\n",
    "print(arr2)"
   ]
  },
  {
   "cell_type": "markdown",
   "metadata": {},
   "source": [
    "## < lambda x(매개변수) : 함수식 >\n",
    "* 이름이 없는 **익명함수**. **간단한 함수**를 작성하는데 쓰인다.\n",
    "* lambda 매개변수 : 함수식\n",
    "> cf. 아래의 느낌같이, : 이전에 매개변수, : 이후에 함수 반환값(return)을 적어주면 된다!\n",
    "```py\n",
    "def lambda(x):\n",
    "    return x * 2\n",
    "```\n",
    "* lambda 함수를 **변수**에 저장해 **호출**하여 사용할 수 있다."
   ]
  },
  {
   "cell_type": "code",
   "execution_count": 11,
   "metadata": {},
   "outputs": [
    {
     "name": "stdout",
     "output_type": "stream",
     "text": [
      "15\n",
      "30\n"
     ]
    }
   ],
   "source": [
    "plus_ten = lambda x : x+10\n",
    "print(plus_ten(5)) # 매개변수(x)의 개수만큼 인자로 넣어 호출한다.\n",
    "\n",
    "lambdaAdd = lambda n, m : n+m\n",
    "print(lambdaAdd(10, 20))"
   ]
  },
  {
   "cell_type": "markdown",
   "metadata": {},
   "source": [
    "## < list & map & lambda >"
   ]
  }
 ],
 "metadata": {
  "kernelspec": {
   "display_name": "Python 3",
   "language": "python",
   "name": "python3"
  },
  "language_info": {
   "codemirror_mode": {
    "name": "ipython",
    "version": 3
   },
   "file_extension": ".py",
   "mimetype": "text/x-python",
   "name": "python",
   "nbconvert_exporter": "python",
   "pygments_lexer": "ipython3",
   "version": "3.7.3"
  }
 },
 "nbformat": 4,
 "nbformat_minor": 2
}
