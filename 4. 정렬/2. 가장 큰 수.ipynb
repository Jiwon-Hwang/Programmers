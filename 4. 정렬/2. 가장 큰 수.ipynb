{
 "cells": [
  {
   "cell_type": "code",
   "execution_count": null,
   "metadata": {},
   "outputs": [],
   "source": [
    "# 정답! \n",
    "def solution(numbers):\n",
    "    numbers = list(map(str, numbers))\n",
    "    numbers.sort(key = lambda x : x*3, reverse=True)\n",
    "    \n",
    "    return str(int(''.join(numbers)))"
   ]
  },
  {
   "cell_type": "code",
   "execution_count": null,
   "metadata": {},
   "outputs": [],
   "source": [
    "# 미완 코드\n",
    "def solution(numbers):\n",
    "    answer = ''\n",
    "    numbers = list(map(str, numbers))\n",
    "    while(numbers):\n",
    "        tmp_first_list = list(map(lambda x : x[0], numbers))\n",
    "        print(tmp_first_list)\n",
    "        tmp_max = max(tmp_first_list)\n",
    "        if tmp_first_list.count(tmp_max) == 1:\n",
    "            answer += numbers.pop(tmp_first_list.index(tmp_max))\n",
    "            continue\n",
    "        # 예외처리 해주기 (3, 30, 34)\n",
    "    \n",
    "    return"
   ]
  },
  {
   "cell_type": "code",
   "execution_count": 7,
   "metadata": {},
   "outputs": [
    {
     "name": "stdout",
     "output_type": "stream",
     "text": [
      "['3', '3', '3', '5', '9']\n",
      "9 4\n",
      "9\n"
     ]
    }
   ],
   "source": [
    "numbers = [3, 30, 34, 5, 9]\n",
    "answer = ''\n",
    "numbers = list(map(str, numbers))\n",
    "\n",
    "tmp_first_list = list(map(lambda x : x[0], numbers))\n",
    "#print(tmp_first_list)\n",
    "tmp_max = max(tmp_first_list)\n",
    "if tmp_first_list.count(tmp_max) == 1:\n",
    "    #print(tmp_max, tmp_first_list.index(tmp_max))\n",
    "    answer += numbers.pop(tmp_first_list.index(tmp_max))\n",
    "    #print(answer)\n",
    "    "
   ]
  },
  {
   "cell_type": "code",
   "execution_count": 5,
   "metadata": {},
   "outputs": [
    {
     "name": "stdout",
     "output_type": "stream",
     "text": [
      "['9', '5', '342', '34', '30', '3']\n"
     ]
    }
   ],
   "source": [
    "str_list = list(map(str, [3, 30, 34, 5, 9, 342]))\n",
    "str_list = sorted(str_list, reverse = True)\n",
    "print(str_list)\n",
    "\n",
    "# '34342' > '34234'"
   ]
  },
  {
   "cell_type": "markdown",
   "metadata": {},
   "source": [
    "<hr>"
   ]
  },
  {
   "cell_type": "markdown",
   "metadata": {},
   "source": [
    "## < map(함수, 반복가능한 객체) >\n",
    "* 반복가능한 객체(ex. list, tuple 등)의 **각 요소들**에 모두 특정 **함수**를 적용해준다.\n",
    "* 꼭 앞에 **list()함수와 같이** 써줘야 출력 가능하다!\n",
    "    * map()의 return 값은 map객체(object)이므로, list()함수를 통해 리스트형으로 변환해주어야 함."
   ]
  },
  {
   "cell_type": "code",
   "execution_count": 7,
   "metadata": {},
   "outputs": [
    {
     "name": "stdout",
     "output_type": "stream",
     "text": [
      "['1', '2', '3']\n",
      "[1, 2, 3]\n",
      "[2, 4, 6]\n"
     ]
    }
   ],
   "source": [
    "arr = ['1', '2', '3']\n",
    "print(arr)\n",
    "\n",
    "arr1 = list(map(int, arr))\n",
    "print(arr1)\n",
    "\n",
    "arr2 = list(map(lambda x : x*2, arr1)) # arr1의 각 요소를 매개변수로 x를 받아서 x*2 값으로 return한다.\n",
    "print(arr2)"
   ]
  },
  {
   "cell_type": "markdown",
   "metadata": {},
   "source": [
    "## < lambda x(매개변수) : 함수식 >\n",
    "* 이름이 없는 **익명함수**. **간단한 함수**를 작성하는데 쓰인다.\n",
    "* lambda 매개변수 : 함수식\n",
    "> cf. 아래의 느낌같이, : 이전에 매개변수, : 이후에 함수 반환값(return)을 적어주면 된다!\n",
    "```py\n",
    "def lambda(x):\n",
    "    return x * 2\n",
    "```\n",
    "* lambda 함수를 **변수**에 저장해 **호출**하여 사용할 수 있다."
   ]
  },
  {
   "cell_type": "code",
   "execution_count": 11,
   "metadata": {},
   "outputs": [
    {
     "name": "stdout",
     "output_type": "stream",
     "text": [
      "15\n",
      "30\n"
     ]
    }
   ],
   "source": [
    "plus_ten = lambda x : x+10\n",
    "print(plus_ten(5)) # 매개변수(x)의 개수만큼 인자로 넣어 호출한다.\n",
    "\n",
    "lambdaAdd = lambda n, m : n+m\n",
    "print(lambdaAdd(10, 20))"
   ]
  },
  {
   "cell_type": "markdown",
   "metadata": {},
   "source": [
    "## < list & map & lambda >"
   ]
  }
 ],
 "metadata": {
  "kernelspec": {
   "display_name": "Python 3",
   "language": "python",
   "name": "python3"
  },
  "language_info": {
   "codemirror_mode": {
    "name": "ipython",
    "version": 3
   },
   "file_extension": ".py",
   "mimetype": "text/x-python",
   "name": "python",
   "nbconvert_exporter": "python",
   "pygments_lexer": "ipython3",
   "version": "3.7.3"
  }
 },
 "nbformat": 4,
 "nbformat_minor": 2
}
