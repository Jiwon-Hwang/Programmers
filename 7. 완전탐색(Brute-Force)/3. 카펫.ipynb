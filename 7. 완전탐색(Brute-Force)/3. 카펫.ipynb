{
 "cells": [
  {
   "cell_type": "code",
   "execution_count": null,
   "metadata": {},
   "outputs": [],
   "source": [
    "# 정답\n",
    "def solution(brown, yellow):\n",
    "    import math\n",
    "    t = brown + yellow\n",
    "    m = math.ceil(math.sqrt(t))\n",
    "    \n",
    "    for i in range(m, t+1):\n",
    "        if t % i != 0:\n",
    "            continue\n",
    "        tmp = [i, t//i] # [w, h]\n",
    "        if brown == (i + t//i) * 2 - 4:\n",
    "            return tmp"
   ]
  },
  {
   "cell_type": "code",
   "execution_count": null,
   "metadata": {},
   "outputs": [],
   "source": [
    "# 다른 풀이 ==> 근의 공식 이용 (2차 방정식의 해)\n",
    "def solution(brown, yellow):\n",
    "    import math\n",
    "    w = ((brown+4)/2 + math.sqrt(((brown+4)/2)**2-4*(brown+yellow)))/2\n",
    "    h = ((brown+4)/2 - math.sqrt(((brown+4)/2)**2-4*(brown+yellow)))/2\n",
    "    return [w,h]"
   ]
  },
  {
   "cell_type": "markdown",
   "metadata": {},
   "source": [
    "<hr>"
   ]
  },
  {
   "cell_type": "markdown",
   "metadata": {},
   "source": [
    "**식이 두 개**고 **미지수(해)가 2개**면 이차방정식을 이용하여 답을 구할 수 있다!  \n",
    "구할 두 해(return)를 w, h 라고 할 때,  \n",
    "> * w * h = brown + yellow (ex.12)  \n",
    "* (w + h) * 2 - 4 = brown (ex. 10)  \n",
    "  \n",
    "이 두 식을 연립한 후, 근의 공식을 통해 [w, h]를 바로 return할 수 있다!"
   ]
  }
 ],
 "metadata": {
  "kernelspec": {
   "display_name": "Python 3",
   "language": "python",
   "name": "python3"
  },
  "language_info": {
   "codemirror_mode": {
    "name": "ipython",
    "version": 3
   },
   "file_extension": ".py",
   "mimetype": "text/x-python",
   "name": "python",
   "nbconvert_exporter": "python",
   "pygments_lexer": "ipython3",
   "version": "3.7.3"
  }
 },
 "nbformat": 4,
 "nbformat_minor": 2
}
