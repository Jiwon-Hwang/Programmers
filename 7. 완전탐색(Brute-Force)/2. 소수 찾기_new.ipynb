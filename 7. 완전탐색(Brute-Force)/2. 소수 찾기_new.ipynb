{
 "cells": [
  {
   "cell_type": "code",
   "execution_count": null,
   "id": "a0221582",
   "metadata": {},
   "outputs": [],
   "source": [
    "# new sol) math.ceil(), math.sqrt() 이용 => 시간 단축!\n",
    "import itertools\n",
    "import math\n",
    "\n",
    "def isPrime(n):\n",
    "    if n < 2 :\n",
    "        return False\n",
    "    if n == 2:\n",
    "        return True\n",
    "    for i in range(2, math.ceil(math.sqrt(n))+1):\n",
    "        if n % i == 0 :\n",
    "            return False\n",
    "    return True\n",
    "    \n",
    "\n",
    "def solution(numbers):\n",
    "    numbers_list = list(numbers) # 한 요소씩 쪼개기\n",
    "    prime_set = set()\n",
    "    \n",
    "    for i in range(len(numbers_list)):\n",
    "        for j in set(map(''.join, itertools.permutations(numbers_list, i+1))):\n",
    "            if(isPrime(int(j))) : \n",
    "                print(\"n :\", j)\n",
    "                prime_set.add(int(j))\n",
    "    print(prime_set)      \n",
    "    return len(prime_set)"
   ]
  }
 ],
 "metadata": {
  "kernelspec": {
   "display_name": "Python 3 (ipykernel)",
   "language": "python",
   "name": "python3"
  },
  "language_info": {
   "codemirror_mode": {
    "name": "ipython",
    "version": 3
   },
   "file_extension": ".py",
   "mimetype": "text/x-python",
   "name": "python",
   "nbconvert_exporter": "python",
   "pygments_lexer": "ipython3",
   "version": "3.9.12"
  }
 },
 "nbformat": 4,
 "nbformat_minor": 5
}
