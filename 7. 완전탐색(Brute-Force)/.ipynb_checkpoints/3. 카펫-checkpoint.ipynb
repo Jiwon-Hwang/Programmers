{
 "cells": [
  {
   "cell_type": "code",
   "execution_count": null,
   "metadata": {},
   "outputs": [],
   "source": [
    "# 정답\n",
    "def solution(brown, yellow):\n",
    "    import math\n",
    "    t = brown + yellow\n",
    "    m = math.ceil(math.sqrt(t))\n",
    "    \n",
    "    for i in range(m, t+1):\n",
    "        if t % i != 0:\n",
    "            continue\n",
    "        tmp = [i, t//i] # [w, h]\n",
    "        if brown == (i + t//i) * 2 - 4:\n",
    "            return tmp"
   ]
  },
  {
   "cell_type": "code",
   "execution_count": null,
   "metadata": {},
   "outputs": [],
   "source": [
    "# 다른 풀이 ==> 근의 공식 이용 (2차 방정식의 해)\n",
    "def solution(brown, yellow):\n",
    "    import math\n",
    "    w = ((brown+4)/2 + math.sqrt(((brown+4)/2)**2-4*(brown+yellow)))/2\n",
    "    h = ((brown+4)/2 - math.sqrt(((brown+4)/2)**2-4*(brown+yellow)))/2\n",
    "    return [w,h]"
   ]
  }
 ],
 "metadata": {
  "kernelspec": {
   "display_name": "Python 3",
   "language": "python",
   "name": "python3"
  },
  "language_info": {
   "codemirror_mode": {
    "name": "ipython",
    "version": 3
   },
   "file_extension": ".py",
   "mimetype": "text/x-python",
   "name": "python",
   "nbconvert_exporter": "python",
   "pygments_lexer": "ipython3",
   "version": "3.7.3"
  }
 },
 "nbformat": 4,
 "nbformat_minor": 2
}
