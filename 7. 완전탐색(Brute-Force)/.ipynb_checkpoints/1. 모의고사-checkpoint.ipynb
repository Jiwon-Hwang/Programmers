{
 "cells": [
  {
   "cell_type": "code",
   "execution_count": 1,
   "metadata": {},
   "outputs": [],
   "source": [
    "# 정답\n",
    "def solution(answers):\n",
    "    one = [1,2,3,4,5] * 2000\n",
    "    two = [2,1,2,3,2,4,2,5] * 1250\n",
    "    three = [3,3,1,1,2,2,4,4,5,5] * 1000\n",
    "    \n",
    "    scores = [0, 0, 0]\n",
    "    l = len(answers)\n",
    "    \n",
    "    for i in range(l):\n",
    "        if answers[i] == one[i]:\n",
    "            scores[0] += 1\n",
    "        if answers[i] == two[i]:\n",
    "            scores[1] += 1\n",
    "        if answers[i] == three[i]:\n",
    "            scores[2] += 1\n",
    "        \n",
    "    tmp_max = max(scores)\n",
    "    persons = [i+1 for i in range(3) if scores[i] == tmp_max]\n",
    "    \n",
    "    return persons"
   ]
  },
  {
   "cell_type": "code",
   "execution_count": null,
   "metadata": {},
   "outputs": [],
   "source": [
    "# 다른 풀이 : pattern & %(나머지) 연산자 사용\n",
    "def solution(answers):\n",
    "    pattern1 = [1,2,3,4,5]\n",
    "    pattern2 = [2,1,2,3,2,4,2,5]\n",
    "    pattern3 = [3,3,1,1,2,2,4,4,5,5]\n",
    "    score = [0, 0, 0]\n",
    "    result = []\n",
    "\n",
    "    for idx, answer in enumerate(answers):\n",
    "        if answer == pattern1[idx%len(pattern1)]:\n",
    "            score[0] += 1\n",
    "        if answer == pattern2[idx%len(pattern2)]:\n",
    "            score[1] += 1\n",
    "        if answer == pattern3[idx%len(pattern3)]:\n",
    "            score[2] += 1\n",
    "\n",
    "    for idx, s in enumerate(score):\n",
    "        if s == max(score):\n",
    "            result.append(idx+1)\n",
    "\n",
    "    return result"
   ]
  }
 ],
 "metadata": {
  "kernelspec": {
   "display_name": "Python 3",
   "language": "python",
   "name": "python3"
  },
  "language_info": {
   "codemirror_mode": {
    "name": "ipython",
    "version": 3
   },
   "file_extension": ".py",
   "mimetype": "text/x-python",
   "name": "python",
   "nbconvert_exporter": "python",
   "pygments_lexer": "ipython3",
   "version": "3.7.3"
  }
 },
 "nbformat": 4,
 "nbformat_minor": 2
}
