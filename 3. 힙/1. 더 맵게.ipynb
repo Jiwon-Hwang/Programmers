{
 "cells": [
  {
   "cell_type": "code",
   "execution_count": null,
   "metadata": {},
   "outputs": [],
   "source": [
    "# 최종 정답! (정확성 & 효율성 ==> heapq 이용)\n",
    "import heapq\n",
    "def solution(scoville, K):\n",
    "    cnt = 0\n",
    "    heapq.heapify(scoville)\n",
    "    '''\n",
    "    s_list = []\n",
    "    for s in scoville:\n",
    "        heapq.heappush(s_list, s)\n",
    "    '''\n",
    "    \n",
    "    while 1:\n",
    "        if len(scoville) == 1 and scoville[0] < K :\n",
    "            return -1\n",
    "        if scoville[0] >= K:\n",
    "            return cnt\n",
    "        else:\n",
    "            cnt += 1\n",
    "            heapq.heappush(scoville, heapq.heappop(scoville) + heapq.heappop(scoville) * 2)\n",
    "        "
   ]
  },
  {
   "cell_type": "code",
   "execution_count": null,
   "metadata": {},
   "outputs": [],
   "source": [
    "# 정확성 테스트 정답 (sort() 이용 ok) / 효율성 테스트에서는 시간 초과 ==> heap 쓰기\n",
    "def solution(scoville, K):\n",
    "    cnt = 0\n",
    "    scoville.sort()\n",
    "    \n",
    "    while 1:\n",
    "        if len(scoville) == 1 and scoville[0] < K :\n",
    "            return -1\n",
    "        if scoville[0] >= K:\n",
    "            return cnt\n",
    "        else:\n",
    "            cnt += 1\n",
    "            scoville.append(scoville.pop(0) + scoville.pop(0) * 2)\n",
    "            scoville.sort()\n",
    "        "
   ]
  },
  {
   "cell_type": "code",
   "execution_count": null,
   "metadata": {},
   "outputs": [],
   "source": [
    "def solution(scoville, K):\n",
    "    cnt = 0\n",
    "    scoville.sort() # 처음 1회만 전체 sort.. [1, 2, 3, 9, 10, 12]\n",
    "    \n",
    "    while 1:\n",
    "        if scoville[0] >= K:\n",
    "            return cnt\n",
    "        else:\n",
    "            cnt += 1\n",
    "            scoville.append(scoville.pop(0) + scoville.pop(0) * 2) # new_scv\n",
    "            scoville.sort()\n",
    "            \"\"\"for s in scoville:\n",
    "                if s == scoville[-1]: # 하나남거나, 맨 끝까지 갔을 때에도 처리(삽입) (ex. 10 20 30 -> 50 30)\n",
    "                    scoville.append(new_scv)\n",
    "                if new_scv <= s:\n",
    "                    scoville.insert(scoville.index(s), new_scv) # ==> [3, 5, 9, 10, 12]\n",
    "                    break\n",
    "                continue\"\"\"\n",
    "        \n",
    "    \n",
    "    return"
   ]
  },
  {
   "cell_type": "code",
   "execution_count": 1,
   "metadata": {},
   "outputs": [
    {
     "name": "stdout",
     "output_type": "stream",
     "text": [
      "3\n"
     ]
    }
   ],
   "source": [
    "test = [1,2,3,4]\n",
    "print(test.pop(0)+ test.pop(0))"
   ]
  },
  {
   "cell_type": "markdown",
   "metadata": {},
   "source": [
    "<hr>"
   ]
  },
  {
   "cell_type": "markdown",
   "metadata": {},
   "source": [
    "## [ 힙(Heap) & 우선순위 큐 ]\n",
    "힙이란, **최댓값과 최솟값** 을 찾는 연산을 빠르게 하기 위해 고안된 **완전이진트리**  \n",
    "```py\n",
    "import heapq\n",
    "```\n",
    "를 이용하면, 리스트를 기본적으로 **최소 힙**처럼 다룰 수 있게 된다. \n",
    "> **최소 힙(Mean Heap)** : 부모 노드의 키값이 자식 노드의 키값보다 항상 작은 힙 (아래로 갈 수록 작아짐 / 대략 오름차순 느낌의 리스트)  \n",
    "\n",
    "이러한 속성으로 인해 힙에서는 가장 낮은(혹은 높은) 우선순위를 가지는 노드가 항상 루트에 오게 되고, 이를 이용해 **우선순위 큐**와 같은 추상적 자료형을 구현할 수 있다. "
   ]
  },
  {
   "cell_type": "code",
   "execution_count": 9,
   "metadata": {},
   "outputs": [
    {
     "name": "stdout",
     "output_type": "stream",
     "text": [
      "[1, 2, 3, 9, 10, 12]\n",
      "[3, 5, 9, 10, 12]\n"
     ]
    }
   ],
   "source": [
    "import heapq\n",
    "heap1 = [1, 2, 3, 9, 10, 12]\n",
    "heap2 = [5, 3, 9, 10, 12]\n",
    "heapq.heapify(heap1)\n",
    "heapq.heapify(heap2)\n",
    "print(heap1)\n",
    "print(heap2)"
   ]
  },
  {
   "cell_type": "markdown",
   "metadata": {},
   "source": [
    "### 1. heapq.heapify(list) : 리스트 []를 즉각적으로 heap으로 변환함 (O(N) )\n",
    "> 얘를 **간단한 정렬 느낌**으로 사용하면 된다! (sort()는 시간 초과.. 가볍게 **only 최소값 pop할 때** 좋음)\n",
    "### 2. heapq.heappush(heap, value) : value을 heap에 추가 (O(log2N))\n",
    "### 3. heapq.heappop(heap) : heap에서 \"가장 작은\" 원소(최소값)를 pop & 리턴. (비어 있으면 IndexError) (O(log2N))"
   ]
  },
  {
   "cell_type": "code",
   "execution_count": 20,
   "metadata": {},
   "outputs": [
    {
     "name": "stdout",
     "output_type": "stream",
     "text": [
      "[4, 10, 50, 20]\n"
     ]
    }
   ],
   "source": [
    "# 1. heapq.heapify(list)\n",
    "heap = [50 ,10, 4,20] # list\n",
    "heapq.heapify(heap)\n",
    "\n",
    "print(heap)"
   ]
  },
  {
   "cell_type": "code",
   "execution_count": 21,
   "metadata": {},
   "outputs": [
    {
     "name": "stdout",
     "output_type": "stream",
     "text": [
      "[4, 10, 50, 20, 24]\n",
      "[4, 10, 6, 20, 24, 50]\n"
     ]
    }
   ],
   "source": [
    "# 2. heapq.heappush(heap, value)\n",
    "heapq.heappush(heap, 24)\n",
    "print(heap)\n",
    "\n",
    "heapq.heappush(heap, 6)\n",
    "print(heap)"
   ]
  },
  {
   "cell_type": "markdown",
   "metadata": {},
   "source": [
    "위의 두 예시에서 처럼, 전체 정렬이 아니기 때문에 heappush를 해도 **최소값**이 아니면 맨 뒤에 append만 됨!"
   ]
  },
  {
   "cell_type": "code",
   "execution_count": 22,
   "metadata": {},
   "outputs": [
    {
     "name": "stdout",
     "output_type": "stream",
     "text": [
      "[6, 10, 50, 20, 24]\n"
     ]
    }
   ],
   "source": [
    "heapq.heappop(heap)\n",
    "print(heap)  "
   ]
  },
  {
   "cell_type": "markdown",
   "metadata": {},
   "source": [
    "heappop()을 하면, **최소값인 4는 제거**되고, **heap 구조**이기때문에 알아서 **다음 최소값(6)이 맨 앞으로** 정렬된다!"
   ]
  }
 ],
 "metadata": {
  "kernelspec": {
   "display_name": "Python 3",
   "language": "python",
   "name": "python3"
  },
  "language_info": {
   "codemirror_mode": {
    "name": "ipython",
    "version": 3
   },
   "file_extension": ".py",
   "mimetype": "text/x-python",
   "name": "python",
   "nbconvert_exporter": "python",
   "pygments_lexer": "ipython3",
   "version": "3.7.3"
  }
 },
 "nbformat": 4,
 "nbformat_minor": 2
}
