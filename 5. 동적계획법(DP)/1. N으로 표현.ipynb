{
 "cells": [
  {
   "cell_type": "code",
   "execution_count": null,
   "metadata": {},
   "outputs": [],
   "source": [
    "# 정답!\n",
    "def solution(N,number):\n",
    "    answer=-1\n",
    "    S=[set() for x in range(8)]\n",
    "    for i,x in enumerate(S,start=1):\n",
    "        x.add(int(str(N)*i))\n",
    "    for i in range(1,len(S)):\n",
    "        for j in range(i):\n",
    "            for op1 in S[j]:\n",
    "                for op2 in S[i-j-1]:\n",
    "                    S[i].add(op1+op2)\n",
    "                    S[i].add(op1-op2)\n",
    "                    S[i].add(op1*op2)\n",
    "                    if op2!=0:\n",
    "                        S[i].add(op1//op2)\n",
    "        if number in S[i]:\n",
    "            answer=i+1\n",
    "            break\n",
    "    return answer\n",
    "\n",
    "print(solution(5,12))"
   ]
  },
  {
   "cell_type": "markdown",
   "metadata": {},
   "source": [
    "<hr>"
   ]
  },
  {
   "cell_type": "markdown",
   "metadata": {},
   "source": [
    "## < set() >\n",
    "\n",
    "## <enumerate() >\n",
    "\n",
    "## < set().add() >"
   ]
  }
 ],
 "metadata": {
  "kernelspec": {
   "display_name": "Python 3",
   "language": "python",
   "name": "python3"
  },
  "language_info": {
   "codemirror_mode": {
    "name": "ipython",
    "version": 3
   },
   "file_extension": ".py",
   "mimetype": "text/x-python",
   "name": "python",
   "nbconvert_exporter": "python",
   "pygments_lexer": "ipython3",
   "version": "3.7.3"
  }
 },
 "nbformat": 4,
 "nbformat_minor": 2
}
