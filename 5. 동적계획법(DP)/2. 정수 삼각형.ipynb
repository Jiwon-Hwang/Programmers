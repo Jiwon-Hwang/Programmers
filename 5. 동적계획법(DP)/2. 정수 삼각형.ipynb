{
 "cells": [
  {
   "cell_type": "code",
   "execution_count": null,
   "metadata": {},
   "outputs": [],
   "source": [
    "# 정답!\n",
    "def solution(triangle):\n",
    "    i_len = len(triangle) # 5\n",
    "    for i in range(1, i_len):\n",
    "        for j in range(i+1):\n",
    "            # i++\n",
    "            if j == 0:\n",
    "                triangle[i][j] += triangle[i-1][0]\n",
    "                continue\n",
    "            # i++, j++\n",
    "            elif i == j:\n",
    "                triangle[i][j] += triangle[i-1][j-1]\n",
    "                continue\n",
    "            # i++ or i++, j++\n",
    "            triangle[i][j] = max(triangle[i-1][j-1]+triangle[i][j], triangle[i-1][j]+triangle[i][j])\n",
    "    \n",
    "    tmp_max = 0\n",
    "    for j in range(i_len):\n",
    "        if tmp_max > triangle[i_len-1][j]:\n",
    "            continue\n",
    "        tmp_max = triangle[i_len-1][j]\n",
    "    \n",
    "    return tmp_max"
   ]
  },
  {
   "cell_type": "code",
   "execution_count": null,
   "metadata": {},
   "outputs": [],
   "source": [
    "# 다른 풀이\n",
    "solution = lambda t, l = []: max(l) if not t else solution(t[1:], [max(x,y)+z for x,y,z in zip([0]+l, l+[0], t[0])])"
   ]
  },
  {
   "cell_type": "markdown",
   "metadata": {},
   "source": [
    "<hr>"
   ]
  },
  {
   "cell_type": "markdown",
   "metadata": {},
   "source": [
    "## < zip() >\n",
    "* "
   ]
  },
  {
   "cell_type": "code",
   "execution_count": 4,
   "metadata": {},
   "outputs": [
    {
     "name": "stdout",
     "output_type": "stream",
     "text": [
      "[('ㄱ', 'a'), ('ㄴ', 'b'), ('ㄷ', 'c'), ('ㄹ', 'd'), ('ㅁ', 'e')]\n"
     ]
    }
   ],
   "source": [
    "hangul = ['ㄱ', 'ㄴ', 'ㄷ', 'ㄹ', 'ㅁ']\n",
    "alpha = ['a', 'b', 'c', 'd', 'e']\n",
    "\n",
    "print(list(zip(hangul, alpha)))"
   ]
  }
 ],
 "metadata": {
  "kernelspec": {
   "display_name": "Python 3",
   "language": "python",
   "name": "python3"
  },
  "language_info": {
   "codemirror_mode": {
    "name": "ipython",
    "version": 3
   },
   "file_extension": ".py",
   "mimetype": "text/x-python",
   "name": "python",
   "nbconvert_exporter": "python",
   "pygments_lexer": "ipython3",
   "version": "3.7.3"
  }
 },
 "nbformat": 4,
 "nbformat_minor": 2
}
