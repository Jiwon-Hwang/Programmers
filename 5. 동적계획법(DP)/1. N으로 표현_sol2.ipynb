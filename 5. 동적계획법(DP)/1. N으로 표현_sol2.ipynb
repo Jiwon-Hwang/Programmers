{
 "cells": [
  {
   "cell_type": "code",
   "execution_count": 3,
   "id": "ef271f2e",
   "metadata": {},
   "outputs": [],
   "source": [
    "# 고민 말고 다 해주자!!!! 될지 안될지 고민 먼저 하지 말고 우선 완탐으로 싹다 구현해보기! (효율성 없을 경우엔 특히)\n",
    "\n",
    "# 5를 1개 => 5\n",
    "# 5를 2개 => 55 / (5를 1개) & (5를 1개) => 5+5= 10, 5-5= 0, 5*5= 25, 5/5= 1\n",
    "# 5를 3개 => 555 / (5를 2개) & (5를 1개) / (1개) & (2개) => 60, 50, 55*5, 11 / 15, 5, 50, 2 / 5 / ...\n",
    "# 5를 4개 => 5555 / (5를 3개) & (5를 1개) / (5를 2개) & (5를 2개) / (5를 1개) & (5를 3개)\n",
    "# 5를 5개 => 55555 / 4개 & 1개 / 3개 & 2개 / 2개 & 3개 / 1개 & 4개"
   ]
  },
  {
   "cell_type": "code",
   "execution_count": null,
   "id": "9eceea6c",
   "metadata": {},
   "outputs": [],
   "source": [
    "def solution(N, number):\n",
    "    \n",
    "    if N == number: return 1 # 연산 아예 안쓸 때\n",
    "\n",
    "    set_list = [set([int(str(N)*(i+1))]) for i in range(8)]\n",
    "    \n",
    "    for i in range(1, 8):\n",
    "        for j in range(i): \n",
    "            # 두 set의 product => 사칙연산 수행\n",
    "            for num1 in set_list[j]:\n",
    "                for num2 in set_list[i-j-1]:\n",
    "                    set_list[i].add(num1 + num2)\n",
    "                    set_list[i].add(num1 - num2)\n",
    "                    set_list[i].add(num1 * num2)\n",
    "                    if num2 != 0:\n",
    "                        set_list[i].add(num1 // num2)\n",
    "        \n",
    "        if number in set_list[i]:\n",
    "            return i+1\n",
    "    \n",
    "    return -1"
   ]
  }
 ],
 "metadata": {
  "kernelspec": {
   "display_name": "Python 3 (ipykernel)",
   "language": "python",
   "name": "python3"
  },
  "language_info": {
   "codemirror_mode": {
    "name": "ipython",
    "version": 3
   },
   "file_extension": ".py",
   "mimetype": "text/x-python",
   "name": "python",
   "nbconvert_exporter": "python",
   "pygments_lexer": "ipython3",
   "version": "3.9.12"
  }
 },
 "nbformat": 4,
 "nbformat_minor": 5
}
