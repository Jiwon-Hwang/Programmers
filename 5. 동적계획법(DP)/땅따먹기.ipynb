{
 "cells": [
  {
   "cell_type": "code",
   "execution_count": null,
   "id": "4f353714",
   "metadata": {},
   "outputs": [],
   "source": [
    "def getMax(arr, idx):\n",
    "    now_max = 0\n",
    "    for i in range(4):\n",
    "        if i == idx:\n",
    "            continue\n",
    "        if now_max < arr[i]:\n",
    "            now_max = arr[i]\n",
    "    return now_max\n",
    "\n",
    "def solution(land):\n",
    "    for i in range(1, len(land)):\n",
    "        for j in range(4):\n",
    "            land[i][j] += getMax(land[i-1], j)\n",
    "            # land[i][j] = max(land[i-1][:j] + land[i-1][j+1:]) + land[i][j]\n",
    "\n",
    "    return max(land[-1])"
   ]
  }
 ],
 "metadata": {
  "kernelspec": {
   "display_name": "Python 3",
   "language": "python",
   "name": "python3"
  },
  "language_info": {
   "codemirror_mode": {
    "name": "ipython",
    "version": 3
   },
   "file_extension": ".py",
   "mimetype": "text/x-python",
   "name": "python",
   "nbconvert_exporter": "python",
   "pygments_lexer": "ipython3",
   "version": "3.8.8"
  }
 },
 "nbformat": 4,
 "nbformat_minor": 5
}
