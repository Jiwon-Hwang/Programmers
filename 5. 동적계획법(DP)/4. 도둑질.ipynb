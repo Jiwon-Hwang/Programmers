{
 "cells": [
  {
   "cell_type": "code",
   "execution_count": null,
   "metadata": {},
   "outputs": [],
   "source": [
    "# sol1\n",
    "def solution(money):\n",
    "    # 1. 첫 집을 무조건 터는 경우 (dp1) (마지막 집은 안 털음)\n",
    "    dp1 = [0] * len(money)\n",
    "    dp1[0] = money[0]                              # 집이 1개일 때\n",
    "    dp1[1] = max(money[0], money[1])               # 집이 2개 일 때\n",
    "    \n",
    "    for i in range(2, len(money)-1):              # 집이 3개 이상일 때\n",
    "        dp1[i] = max(dp1[i-1], money[i]+dp1[i-2])\n",
    "    \n",
    "    \n",
    "    # 2. 마지막 집을 무조건 터는 경우 (dp2) (첫 집은 안 털음)\n",
    "    dp2 = [0] * len(money)\n",
    "    dp2[0] = 0\n",
    "    dp2[1] = money[1]\n",
    "\n",
    "    for i in range(2, len(money)): \n",
    "        dp2[i] = max(dp2[i-1], money[i]+dp2[i-2])\n",
    "\n",
    "    return max(max(dp1), max(dp2)) # 두 경우 중 최대"
   ]
  },
  {
   "cell_type": "code",
   "execution_count": 2,
   "metadata": {},
   "outputs": [],
   "source": [
    "# cf. 첫 집, 마지막 집 둘 다 안터는 경우..?\n",
    "\n",
    "# 1. 첫 집을 무조건 털 경우 (마지막 집은 못 털음)\n",
    "# 2. 첫 집을 털지 않았을 경우 (마지막 집은 털 수도, 안 털수도 있음)"
   ]
  },
  {
   "cell_type": "code",
   "execution_count": null,
   "metadata": {},
   "outputs": [],
   "source": [
    "# *** sol2 ***\n",
    "def solution(money):\n",
    "    dp1 = [0 for _ in range(len(money))]\n",
    "    \n",
    "    # 1. 첫 집을 털 경우\n",
    "    dp1[0] = money[0]\n",
    "    dp1[1] = dp1[0]\n",
    "    for i in range(2, len(money)-1):\n",
    "        dp1[i] = max(dp1[i-1], dp1[i-2] + money[i])\n",
    "    # tmp_max = max(dp1)\n",
    "    \n",
    "    # 2. 첫 집을 털지 않았을 경우\n",
    "    dp2 = [0 for _ in range(len(money))]\n",
    "    dp2[1] = money[1]\n",
    "    for i in range(2, len(money)):\n",
    "        dp2[i] = max(dp2[i-1], dp2[i-2] + money[i])\n",
    "        \n",
    "    return max(max(dp1), max(dp2))"
   ]
  },
  {
   "cell_type": "markdown",
   "metadata": {},
   "source": [
    "<hr>"
   ]
  },
  {
   "cell_type": "markdown",
   "metadata": {},
   "source": [
    "## < dp & 점화식(max) >"
   ]
  },
  {
   "cell_type": "markdown",
   "metadata": {},
   "source": [
    "* 집 개수를 1개일 때, 2개일 때, 3개... 이렇게 하나씩 늘려가면서 생각한다.\n",
    "* 원형이 아니라 직선의 형태로 이어져 있다고 생각한다."
   ]
  },
  {
   "cell_type": "markdown",
   "metadata": {},
   "source": [
    "```py\n",
    "dp[i] #  i번째 집까지 털었을 때 그 때까지의 최댓값\n",
    "```"
   ]
  },
  {
   "cell_type": "markdown",
   "metadata": {},
   "source": [
    "### [기본 로직]\n",
    "1) i-1번째 집을 털었을 경우 (i번째 집 못 털음)\n",
    "```py\n",
    "dp[i] = dp[i-1]\n",
    "```\n",
    "      \n",
    "2) i-1번째 집을 털지 않았을 경우 (i번째 집 털 수 있음)\n",
    "```py\n",
    "dp[i] = dp[i-2] + money[i]\n",
    "```"
   ]
  },
  {
   "cell_type": "markdown",
   "metadata": {},
   "source": [
    "### [고려 사항]\n",
    "1) 첫 집을 털었을 때 (마지막 집 못 털음)  \n",
    "  \n",
    "2) 첫 집을 털지 않았을 때 (마지막 집은 털 수도, 안 털수도 있음)"
   ]
  }
 ],
 "metadata": {
  "kernelspec": {
   "display_name": "Python 3",
   "language": "python",
   "name": "python3"
  },
  "language_info": {
   "codemirror_mode": {
    "name": "ipython",
    "version": 3
   },
   "file_extension": ".py",
   "mimetype": "text/x-python",
   "name": "python",
   "nbconvert_exporter": "python",
   "pygments_lexer": "ipython3",
   "version": "3.7.3"
  }
 },
 "nbformat": 4,
 "nbformat_minor": 2
}
