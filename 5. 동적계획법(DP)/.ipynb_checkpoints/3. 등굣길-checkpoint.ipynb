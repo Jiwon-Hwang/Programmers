{
 "cells": [
  {
   "cell_type": "code",
   "execution_count": null,
   "metadata": {},
   "outputs": [],
   "source": [
    "# 정답!\n",
    "def solution(m, n, puddles):\n",
    "    grid = [[0]*(m+1) for _ in range(n+1)] # 테두리 하나 더 추가해서 0으로 채워두기\n",
    "    \n",
    "    # 테두리랑 puddle들 따로 처리하지 말고 한번에 처리하기! (puddle도 -1말고 0으로 처리)\n",
    "    for i in range(1, n+1):\n",
    "        for j in range(1, m+1):\n",
    "            if i == 1 and j == 1:\n",
    "                grid[i][j] = 1\n",
    "                continue\n",
    "            elif [j, i] in puddles:\n",
    "                continue\n",
    "            grid[i][j] = grid[i-1][j] + grid[i][j-1]\n",
    "\n",
    "    answer = grid[n][m] % 1000000007\n",
    "    return answer"
   ]
  },
  {
   "cell_type": "code",
   "execution_count": null,
   "metadata": {},
   "outputs": [],
   "source": [
    "# 실행 성공, 정답 x (런타임에러)\n",
    "def solution(m, n, puddles):\n",
    "    grid = [[0]*m for _ in range(n)] \n",
    "    for puddle in puddles:\n",
    "        grid[puddle[0]-1][puddle[1]-1] = -1\n",
    "    \n",
    "    # 안쪽 채우기 전에, 먼저!! 맨 왼쪽, 맨 위쪽 테두리 채우기 처리! (무조건 1들 아님!!) (웅덩이가 맨 끝에 있을 경우)\n",
    "    \n",
    "    # 1. 가로 맨 위\n",
    "    for i in range(1, m):\n",
    "        if grid[0][i] == -1: # 웅덩이(-1) 만나면 그 뒤에는 다 0\n",
    "            break\n",
    "        grid[0][i] = 1\n",
    "        \n",
    "    # 2. 세로 맨 왼쪽\n",
    "    for i in range(1, n):\n",
    "        if grid[i][0] == -1:\n",
    "            break\n",
    "        grid[i][0] = 1\n",
    "        \n",
    "    if m == 1 or n ==1 :\n",
    "        return grid[n-1][m-1]\n",
    "    \n",
    "    # n or m이 1일때는 성립 x! ==> m,n 둘다 1이 아닐때\n",
    "    for i in range(1, n):\n",
    "        for j in range(1, m):\n",
    "            if grid[i][j] == -1:\n",
    "                continue\n",
    "            elif grid[i][j-1] != -1:\n",
    "                if grid[i-1][j] != -1:\n",
    "                    grid[i][j] = grid[i][j-1] + grid[i-1][j]\n",
    "                    continue\n",
    "                grid[i][j] = grid[i][j-1]\n",
    "                continue\n",
    "            if grid[i-1][j] == -1:\n",
    "                grid[i][j] = 1\n",
    "                continue\n",
    "            grid[i][j] = grid[i-1][j]\n",
    "            \n",
    "    answer = grid[n-1][m-1] % 1000000007\n",
    "    return answer"
   ]
  },
  {
   "cell_type": "markdown",
   "metadata": {},
   "source": [
    "<hr>"
   ]
  },
  {
   "cell_type": "markdown",
   "metadata": {},
   "source": [
    "## < 언더바 ( _ )를 이용한 2차원 배열 초기화 >\n",
    "언더바 ( _ )는 **값을 무시하고 싶을 때** 사용된다.  \n",
    "```py\n",
    "arr = [[0]*4 for _ in range(3)]\n",
    "```\n",
    "이렇게 하면 [0, 0, 0, 0] 으로 arr을 채울건데, **인덱스를 따로 사용하지 않고서** 3번 반복해서 채울 수 있다! (**2차원 배열 초기화**)"
   ]
  },
  {
   "cell_type": "code",
   "execution_count": 3,
   "metadata": {
    "scrolled": false
   },
   "outputs": [
    {
     "name": "stdout",
     "output_type": "stream",
     "text": [
      "[[0, 0, 0, 0], [0, 0, 0, 0], [0, 0, 0, 0]]\n"
     ]
    }
   ],
   "source": [
    "arr = [[0]*4 for _ in range(3)] # 인덱스 (ex. i)를 만들어도 사용할 일이 없으므로 언더바(_)로 사용한다.\n",
    "\n",
    "print(arr)"
   ]
  },
  {
   "cell_type": "code",
   "execution_count": 5,
   "metadata": {},
   "outputs": [
    {
     "name": "stdout",
     "output_type": "stream",
     "text": [
      "인덱스 필요 없이 단순 반복!\n",
      "인덱스 필요 없이 단순 반복!\n",
      "인덱스 필요 없이 단순 반복!\n",
      "인덱스 필요 없이 단순 반복!\n",
      "인덱스 필요 없이 단순 반복!\n"
     ]
    }
   ],
   "source": [
    "for _ in range(5):\n",
    "    print('인덱스 필요 없이 단순 반복!')"
   ]
  },
  {
   "cell_type": "markdown",
   "metadata": {},
   "source": [
    "**언패킹** 시에도 언더바가 사용된다."
   ]
  },
  {
   "cell_type": "code",
   "execution_count": 4,
   "metadata": {
    "scrolled": true
   },
   "outputs": [
    {
     "name": "stdout",
     "output_type": "stream",
     "text": [
      "1 3\n"
     ]
    }
   ],
   "source": [
    "x, _, y = 1, 2, 3\n",
    "\n",
    "print(x, y)"
   ]
  }
 ],
 "metadata": {
  "kernelspec": {
   "display_name": "Python 3",
   "language": "python",
   "name": "python3"
  },
  "language_info": {
   "codemirror_mode": {
    "name": "ipython",
    "version": 3
   },
   "file_extension": ".py",
   "mimetype": "text/x-python",
   "name": "python",
   "nbconvert_exporter": "python",
   "pygments_lexer": "ipython3",
   "version": "3.7.3"
  }
 },
 "nbformat": 4,
 "nbformat_minor": 2
}
