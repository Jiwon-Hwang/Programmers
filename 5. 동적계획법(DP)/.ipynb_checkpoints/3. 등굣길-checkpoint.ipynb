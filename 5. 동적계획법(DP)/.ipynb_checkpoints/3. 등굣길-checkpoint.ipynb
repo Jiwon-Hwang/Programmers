{
 "cells": [
  {
   "cell_type": "code",
   "execution_count": null,
   "metadata": {},
   "outputs": [],
   "source": [
    "# 실행 성공, 정답 x (런타임에러)\n",
    "def solution(m, n, puddles):\n",
    "    grid = [[0]*m for _ in range(n)] \n",
    "    for puddle in puddles:\n",
    "        grid[puddle[0]-1][puddle[1]-1] = -1\n",
    "    \n",
    "    # 안쪽 채우기 전에, 먼저!! 맨 왼쪽, 맨 위쪽 테두리 채우기 처리! (무조건 1들 아님!!) (웅덩이가 맨 끝에 있을 경우)\n",
    "    \n",
    "    # 1. 가로 맨 위\n",
    "    for i in range(1, m):\n",
    "        if grid[0][i] == -1: # 웅덩이(-1) 만나면 그 뒤에는 다 0\n",
    "            break\n",
    "        grid[0][i] = 1\n",
    "        \n",
    "    # 2. 세로 맨 왼쪽\n",
    "    for i in range(1, n):\n",
    "        if grid[i][0] == -1:\n",
    "            break\n",
    "        grid[i][0] = 1\n",
    "        \n",
    "    if m == 1 or n ==1 :\n",
    "        return grid[n-1][m-1]\n",
    "    \n",
    "    # n or m이 1일때는 성립 x! ==> m,n 둘다 1이 아닐때\n",
    "    for i in range(1, n):\n",
    "        for j in range(1, m):\n",
    "            if grid[i][j] == -1:\n",
    "                continue\n",
    "            elif grid[i][j-1] != -1:\n",
    "                if grid[i-1][j] != -1:\n",
    "                    grid[i][j] = grid[i][j-1] + grid[i-1][j]\n",
    "                    continue\n",
    "                grid[i][j] = grid[i][j-1]\n",
    "                continue\n",
    "            if grid[i-1][j] == -1:\n",
    "                grid[i][j] = 1\n",
    "                continue\n",
    "            grid[i][j] = grid[i-1][j]\n",
    "            \n",
    "    answer = grid[n-1][m-1] % 1000000007\n",
    "    return answer"
   ]
  },
  {
   "cell_type": "markdown",
   "metadata": {},
   "source": [
    "<hr>"
   ]
  }
 ],
 "metadata": {
  "kernelspec": {
   "display_name": "Python 3",
   "language": "python",
   "name": "python3"
  },
  "language_info": {
   "codemirror_mode": {
    "name": "ipython",
    "version": 3
   },
   "file_extension": ".py",
   "mimetype": "text/x-python",
   "name": "python",
   "nbconvert_exporter": "python",
   "pygments_lexer": "ipython3",
   "version": "3.7.3"
  }
 },
 "nbformat": 4,
 "nbformat_minor": 2
}
