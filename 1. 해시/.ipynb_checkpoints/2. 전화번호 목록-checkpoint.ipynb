{
 "cells": [
  {
   "cell_type": "code",
   "execution_count": null,
   "metadata": {},
   "outputs": [],
   "source": [
    "# 정답!\n",
    "\n",
    "def solution(phone_book):\n",
    "    phone_book.sort() # 크기(길이) 순으로 정렬 x!! ==> 제거하면 틀림... / 문자열 배열 sort ==> 앞의 글자 순서대로 정렬됨\n",
    "    lenth = len(phone_book)\n",
    "    for i in range(lenth-1):\n",
    "        for j in range(i+1, lenth):\n",
    "            tmp_len = len(phone_book[i])\n",
    "            if phone_book[j][:tmp_len] == phone_book[i]:\n",
    "                return False\n",
    "\n",
    "    return True"
   ]
  },
  {
   "cell_type": "code",
   "execution_count": null,
   "metadata": {},
   "outputs": [],
   "source": [
    "# 다른 풀이 (collections.Counter().keys() 이용)\n",
    "\n",
    "def solution(phoneBook):\n",
    "    phoneBook = sorted(phoneBook)\n",
    "    \n",
    "    for p1, p2 in zip(phoneBook, phoneBook[1:]): # 한 배열 내에서 두 인덱스로 각각 하나씩 다 반복할 때, zip 쓰기 (2중 for문 대신!)\n",
    "        if p2.startswith(p1): # p2가 p1으로 시작하면\n",
    "            return False\n",
    "    return True"
   ]
  },
  {
   "cell_type": "markdown",
   "metadata": {},
   "source": [
    "<hr>"
   ]
  },
  {
   "cell_type": "markdown",
   "metadata": {},
   "source": [
    "## [ str.startswith() ]\n",
    "* 문자열이 **특정 문자열로 시작하는지** 여부를 확인하는 함수\n",
    "* True 나 False 반환 함수"
   ]
  },
  {
   "cell_type": "code",
   "execution_count": 5,
   "metadata": {},
   "outputs": [
    {
     "name": "stdout",
     "output_type": "stream",
     "text": [
      "True\n",
      "True\n",
      "False\n"
     ]
    }
   ],
   "source": [
    "s = \"this is string example....wow!!!\"\n",
    "print(s.startswith('this'))\n",
    "print(s.startswith('is', 2, 4)) # startswith(특정 문자열, begin, end+1)\n",
    "print(s.startswith('this', 2, 4))"
   ]
  },
  {
   "cell_type": "markdown",
   "metadata": {},
   "source": [
    "## [ for a, b in zip(as, bs) ]\n",
    "\n",
    "a와 b가 **동시에 각각** as와 bs 내부를 반복하며 돈다.\n",
    "> **단, as와 bs 길이가 다르면, 작은 크기까지만 돈다!**  \n",
    "\n",
    "> **>>> 2중 for문 대신, zip 쓰기!! <<<**"
   ]
  },
  {
   "cell_type": "code",
   "execution_count": 6,
   "metadata": {
    "scrolled": false
   },
   "outputs": [
    {
     "name": "stdout",
     "output_type": "stream",
     "text": [
      "a  b : 1 2\n",
      "a  b : 2 3\n",
      "a  b : 3 4\n",
      "a  b : 4 5\n"
     ]
    }
   ],
   "source": [
    "# zip() ex1\n",
    "exList = [1, 2, 3, 4, 5]\n",
    "\n",
    "for a, b in zip(exList, exList[1:]):\n",
    "    print('a  b :', a, b)"
   ]
  },
  {
   "cell_type": "markdown",
   "metadata": {},
   "source": [
    "b는 **길이가 4인 exList[1: ] 내부**를 돌기 때문에 2, 3, 4, 5를 돌고,  \n",
    "a는 **b에 따라 길이 4까지만** 돌기 때문에 1, 2, 3, 4 까지만 돌고 끝나는 것을 알 수 있다."
   ]
  },
  {
   "cell_type": "code",
   "execution_count": 10,
   "metadata": {},
   "outputs": [
    {
     "name": "stdout",
     "output_type": "stream",
     "text": [
      "[(1, 'hong'), (2, 'gil'), (3, 'dong'), (4, 'nim')]\n",
      "<zip object at 0x0000023177DD0FC8>\n"
     ]
    }
   ],
   "source": [
    "# zip() ex2\n",
    "Number = [1,2,3,4]\n",
    "Name = ['hong','gil','dong','nim']\n",
    "Number_Name = list(zip(Number,Name))\n",
    "print(Number_Name)\n",
    "\n",
    "print(zip(Number, Name))"
   ]
  }
 ],
 "metadata": {
  "kernelspec": {
   "display_name": "Python 3",
   "language": "python",
   "name": "python3"
  },
  "language_info": {
   "codemirror_mode": {
    "name": "ipython",
    "version": 3
   },
   "file_extension": ".py",
   "mimetype": "text/x-python",
   "name": "python",
   "nbconvert_exporter": "python",
   "pygments_lexer": "ipython3",
   "version": "3.7.3"
  }
 },
 "nbformat": 4,
 "nbformat_minor": 2
}
