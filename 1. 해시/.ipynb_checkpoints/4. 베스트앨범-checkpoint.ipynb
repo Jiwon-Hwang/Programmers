{
 "cells": [
  {
   "cell_type": "code",
   "execution_count": null,
   "metadata": {},
   "outputs": [],
   "source": [
    "# 나중에, 아예 처음부터 장르별로 새로운 리스트 만들기! (하나의 딕셔너리 말고...)\n",
    "def solution(genres, plays):\n",
    "    # 2차원 배열 만들기 + 동시에 각 장르당 누적값(tmp_sum) 구해서 맨 마지막에 append 하기\n",
    "    sum_list = []\n",
    "    for genre in set(genres):\n",
    "        line = [] # 한 장르 돌때마다 새로운 빈 내부 배열 만들어주기 => 내부 채운 후 line자체를 더하기\n",
    "        line.append(genre)\n",
    "        tmp_sum = 0 # 각 장르당 누적값\n",
    "        for i in range(len(genres)):\n",
    "            if genres[i] != genre:\n",
    "                continue\n",
    "            line.append(plays[i])\n",
    "            tmp_sum += plays[i]\n",
    "            \n",
    "        line.append(tmp_sum)\n",
    "        sum_list.append(line)\n",
    "    #print(sum_list) ==> [['pop', 600, 2500, 3100], ['classic', 500, 150, 800, 1450]]\n",
    "    \n",
    "    # 누적값 상위 2개만 추출하기(해당 장르 인덱스만 구하기)\n",
    "    "
   ]
  },
  {
   "cell_type": "code",
   "execution_count": 2,
   "metadata": {},
   "outputs": [
    {
     "name": "stdout",
     "output_type": "stream",
     "text": [
      "['pop', 'classic']\n"
     ]
    }
   ],
   "source": [
    "genres = [\"classic\", \"pop\", \"classic\", \"classic\", \"pop\"]\n",
    "plays = [500, 600, 150, 800, 2500]\n",
    "sum_list = []\n",
    "for genre in set(genres):\n",
    "    sum_list.append(genre)\n",
    "\n",
    "print(sum_list)"
   ]
  },
  {
   "cell_type": "code",
   "execution_count": 6,
   "metadata": {},
   "outputs": [
    {
     "ename": "SyntaxError",
     "evalue": "invalid syntax (<ipython-input-6-cb5fe38c1a07>, line 2)",
     "output_type": "error",
     "traceback": [
      "\u001b[1;36m  File \u001b[1;32m\"<ipython-input-6-cb5fe38c1a07>\"\u001b[1;36m, line \u001b[1;32m2\u001b[0m\n\u001b[1;33m    sum_list = np.empty(shape=[:, :])\u001b[0m\n\u001b[1;37m                               ^\u001b[0m\n\u001b[1;31mSyntaxError\u001b[0m\u001b[1;31m:\u001b[0m invalid syntax\n"
     ]
    }
   ],
   "source": [
    "import numpy as np\n",
    "sum_list = np.empty(shape=[:, :])\n",
    "\n",
    "sum_list[2].append(1)"
   ]
  },
  {
   "cell_type": "code",
   "execution_count": null,
   "metadata": {},
   "outputs": [],
   "source": [
    "# 런타임 에러 및 틀린 답안\n",
    "def solution(genres, plays):\n",
    "    dic = {}\n",
    "    for i in range(len(genres)):\n",
    "        if genres[i] in dic.keys():\n",
    "            dic[genres[i]] += plays[i]\n",
    "            continue\n",
    "        dic[genres[i]] = plays[i]\n",
    "    \n",
    "    #print(dic) # {'classic': 1450, 'pop': 3100}\n",
    "    \n",
    "    first_max_value = max(dic.values())\n",
    "    first_max_key = [k for k, v in dic.items() if v == first_max_value][0] # value로 key 찾기 ==> list형 내부에만 반복 가능!\n",
    "    dic.pop(first_max_key)\n",
    "    \n",
    "    second_max_value = max(dic.values())\n",
    "    second_max_key = [k for k, v in dic.items() if v == second_max_value][0]\n",
    "    \n",
    "    #print(first_max_key, second_max_key) # pop classic\n",
    "    \n",
    "    # 장르별로 리스트 만들어서 정렬 후 상위 2개 리턴\n",
    "    first_list = [plays[i] for i in range(len(genres)) if genres[i] == first_max_key]\n",
    "    second_list = [plays[i] for i in range(len(genres)) if genres[i] == second_max_key]\n",
    "    first_list.sort(reverse = True)\n",
    "    second_list.sort(reverse = True)\n",
    "    #print(first_list)\n",
    "    #print(second_list)\n",
    "    \n",
    "    \n",
    "    # 상위 2개 append (곡 1개일 경우 & 같은 횟수 재생 경우 예외 처리)\n",
    "    ans = []\n",
    "    for i in range(0, 2):\n",
    "        ans.append(plays.index(first_list[i])) #index : 여러 값 중복 시, 최초의 값 위치 반환\n",
    "        if len(first_list) == 1:\n",
    "            break\n",
    "    \n",
    "    for i in range(0, 2):\n",
    "        ans.append(plays.index(second_list[i])) #index : 여러 값 중복 시, 최초의 값 위치 반환\n",
    "        if len(second_list) == 1:\n",
    "            break\n",
    "        \n",
    "    return ans"
   ]
  },
  {
   "cell_type": "code",
   "execution_count": 2,
   "metadata": {},
   "outputs": [
    {
     "name": "stdout",
     "output_type": "stream",
     "text": [
      "{'classic': 1450, 'pop': 3100}\n"
     ]
    }
   ],
   "source": [
    "genres = ['classic', 'pop', 'classic', 'classic', 'pop']\n",
    "plays = [500, 600, 150, 800, 2500]\n",
    "dic = {}\n",
    "\n",
    "for i in range(len(genres)):\n",
    "    if genres[i] in dic.keys():\n",
    "        dic[genres[i]] += plays[i]\n",
    "        continue\n",
    "    dic[genres[i]] = plays[i]\n",
    "\n",
    "print(dic)"
   ]
  },
  {
   "cell_type": "markdown",
   "metadata": {},
   "source": [
    "<hr>"
   ]
  },
  {
   "cell_type": "markdown",
   "metadata": {},
   "source": [
    "## [ dictionary형 ]\n",
    "* value로 리스트 형을 넣고 싶을 때 ==> **dic[key] = [] 로 초기화 후, dic[key].append()** 하기!"
   ]
  },
  {
   "cell_type": "code",
   "execution_count": 4,
   "metadata": {
    "scrolled": false
   },
   "outputs": [
    {
     "name": "stdout",
     "output_type": "stream",
     "text": [
      "{'썬구리': []}\n",
      "{'썬구리': [1]}\n",
      "{'썬구리': [1, 2]}\n"
     ]
    }
   ],
   "source": [
    "dic = {}\n",
    "dic['썬구리'] = []\n",
    "print(dic)\n",
    "dic['썬구리'].append(1)\n",
    "print(dic)\n",
    "dic['썬구리'].append(2)\n",
    "print(dic)"
   ]
  },
  {
   "cell_type": "code",
   "execution_count": 6,
   "metadata": {},
   "outputs": [
    {
     "name": "stdout",
     "output_type": "stream",
     "text": [
      "{'썬구리': 1, '썬구리?': 1}\n"
     ]
    }
   ],
   "source": [
    "sun = '썬구리?'\n",
    "dic[sun] = 1\n",
    "print(dic)"
   ]
  },
  {
   "cell_type": "markdown",
   "metadata": {},
   "source": [
    "## [ from collections import Counter ]\n",
    "\n",
    "## [ from functools import reduce ]"
   ]
  }
 ],
 "metadata": {
  "kernelspec": {
   "display_name": "Python 3",
   "language": "python",
   "name": "python3"
  },
  "language_info": {
   "codemirror_mode": {
    "name": "ipython",
    "version": 3
   },
   "file_extension": ".py",
   "mimetype": "text/x-python",
   "name": "python",
   "nbconvert_exporter": "python",
   "pygments_lexer": "ipython3",
   "version": "3.7.3"
  }
 },
 "nbformat": 4,
 "nbformat_minor": 2
}
