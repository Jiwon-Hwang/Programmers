{
 "cells": [
  {
   "cell_type": "code",
   "execution_count": null,
   "metadata": {},
   "outputs": [],
   "source": [
    "def solution(genres, plays):\n",
    "    dic = {}\n",
    "    for i in range(len(genres)):\n",
    "        if genres[i] in dic.keys():\n",
    "            dic[genres[i]] += plays[i]\n",
    "            continue\n",
    "        dic[genres[i]] = plays[i]\n",
    "    \n",
    "    #print(dic) # {'classic': 1450, 'pop': 3100}\n",
    "    \n",
    "    # 총합 value값이 2개 이상 서로 같을 때 처리해주기! (3번 조건 : 재생 횟수 같은 노래 중에서는 고유 번호 낮은 노래 수록)\n",
    "    first_max_value = max(dic.values())\n",
    "    first_max_key = [k for k, v in aa.items() if v == 'CC'] # value로 key 찾기\n",
    "\n",
    "\n",
    "    \n",
    "    print(first_max)\n",
    "        \n",
    "    return"
   ]
  },
  {
   "cell_type": "code",
   "execution_count": 2,
   "metadata": {},
   "outputs": [
    {
     "name": "stdout",
     "output_type": "stream",
     "text": [
      "{'classic': 1450, 'pop': 3100}\n"
     ]
    }
   ],
   "source": [
    "genres = ['classic', 'pop', 'classic', 'classic', 'pop']\n",
    "plays = [500, 600, 150, 800, 2500]\n",
    "dic = {}\n",
    "\n",
    "for i in range(len(genres)):\n",
    "    if genres[i] in dic.keys():\n",
    "        dic[genres[i]] += plays[i]\n",
    "        continue\n",
    "    dic[genres[i]] = plays[i]\n",
    "\n",
    "print(dic)"
   ]
  },
  {
   "cell_type": "code",
   "execution_count": null,
   "metadata": {},
   "outputs": [],
   "source": [
    "# 정답\n",
    "def solution(clothes):\n",
    "    sorted_list = sorted(clothes, key = lambda x : x[1])\n",
    "    dic = {}\n",
    "    category = ''\n",
    "    for item in sorted_list:\n",
    "        if item[1] == category:\n",
    "            dic[category].append(item[0]) # 같은 종류면 그냥 뒤에 이어서 추가만\n",
    "            continue\n",
    "        category = item[1]\n",
    "        dic[category] = [] # 다를때만 새로운 종류 발견했을 때이므로, 이때만 새롭게 빈 배열로 초기화!\n",
    "        dic[category].append(item[0])\n",
    "    \n",
    "    answer = 1\n",
    "    for key in dic.keys():\n",
    "        answer = answer * (1+len(dic[key]))\n",
    "        \n",
    "    answer = answer -1 # 적어도 1개는 입어야 하므로, 모두 다 안 입은 경우 빼기\n",
    "    return answer"
   ]
  },
  {
   "cell_type": "code",
   "execution_count": null,
   "metadata": {},
   "outputs": [],
   "source": [
    "# 다른 풀이 (Counter, reduce 이용)\n",
    "\n",
    "def solution(clothes):\n",
    "    from collections import Counter\n",
    "    from functools import reduce\n",
    "    cnt = Counter([kind for name, kind in clothes])\n",
    "    answer = reduce(lambda x, y: x*(y+1), cnt.values(), 1) - 1\n",
    "    return answer"
   ]
  },
  {
   "cell_type": "markdown",
   "metadata": {},
   "source": [
    "<hr>"
   ]
  },
  {
   "cell_type": "markdown",
   "metadata": {},
   "source": [
    "## [ dictionary형 ]\n",
    "* value로 리스트 형을 넣고 싶을 때 ==> **dic[key] = [] 로 초기화 후, dic[key].append()** 하기!"
   ]
  },
  {
   "cell_type": "code",
   "execution_count": 4,
   "metadata": {
    "scrolled": false
   },
   "outputs": [
    {
     "name": "stdout",
     "output_type": "stream",
     "text": [
      "{'썬구리': []}\n",
      "{'썬구리': [1]}\n",
      "{'썬구리': [1, 2]}\n"
     ]
    }
   ],
   "source": [
    "dic = {}\n",
    "dic['썬구리'] = []\n",
    "print(dic)\n",
    "dic['썬구리'].append(1)\n",
    "print(dic)\n",
    "dic['썬구리'].append(2)\n",
    "print(dic)"
   ]
  },
  {
   "cell_type": "code",
   "execution_count": 6,
   "metadata": {},
   "outputs": [
    {
     "name": "stdout",
     "output_type": "stream",
     "text": [
      "{'썬구리': 1, '썬구리?': 1}\n"
     ]
    }
   ],
   "source": [
    "sun = '썬구리?'\n",
    "dic[sun] = 1\n",
    "print(dic)"
   ]
  },
  {
   "cell_type": "markdown",
   "metadata": {},
   "source": [
    "## [ from collections import Counter ]\n",
    "\n",
    "## [ from functools import reduce ]"
   ]
  }
 ],
 "metadata": {
  "kernelspec": {
   "display_name": "Python 3",
   "language": "python",
   "name": "python3"
  },
  "language_info": {
   "codemirror_mode": {
    "name": "ipython",
    "version": 3
   },
   "file_extension": ".py",
   "mimetype": "text/x-python",
   "name": "python",
   "nbconvert_exporter": "python",
   "pygments_lexer": "ipython3",
   "version": "3.7.3"
  }
 },
 "nbformat": 4,
 "nbformat_minor": 2
}
