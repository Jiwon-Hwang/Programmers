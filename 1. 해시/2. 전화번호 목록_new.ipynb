{
 "cells": [
  {
   "cell_type": "code",
   "execution_count": null,
   "id": "3308584b",
   "metadata": {},
   "outputs": [],
   "source": [
    "# 오답 (정확성, 효율성 모두 실패)\n",
    "def solution(phone_book):\n",
    "    for i in range(len(phone_book)-1):\n",
    "        for j in range(i+1, len(phone_book)):\n",
    "            if phone_book[i] in phone_book[j] and phone_book[j].split(phone_book[i])[0] == \"\":\n",
    "                return False\n",
    "    return True\n",
    "    "
   ]
  },
  {
   "cell_type": "code",
   "execution_count": null,
   "id": "cf625ff3",
   "metadata": {},
   "outputs": [],
   "source": [
    "# 오답 (정확성 통과, 효율성 실패)\n",
    "def solution(phone_book):\n",
    "    phone_book.sort() # sort 안해주면 \"119\"가 맨 뒤에 있을 경우에도 포함 못함...\n",
    "    for i in range(len(phone_book)-1):\n",
    "        for j in range(i+1, len(phone_book)):\n",
    "            if phone_book[i] in phone_book[j] and phone_book[j].split(phone_book[i])[0] == \"\":\n",
    "                return False\n",
    "    return True\n",
    "    "
   ]
  },
  {
   "cell_type": "code",
   "execution_count": null,
   "id": "b7c58f4a",
   "metadata": {},
   "outputs": [],
   "source": [
    "# 정답 1 (정확성, 효율성 모두 성공)\n",
    "def solution(phone_book):\n",
    "    phone_book.sort() # sort() !!\n",
    "    # 2중 for문 안써줘야 효율성 향상!\n",
    "    for i in range(len(phone_book)-1):\n",
    "        if phone_book[i] in phone_book[i+1] and phone_book[i+1].split(phone_book[i])[0] == \"\":\n",
    "            return False\n",
    "    return True"
   ]
  },
  {
   "cell_type": "code",
   "execution_count": null,
   "id": "07c606bd",
   "metadata": {},
   "outputs": [],
   "source": [
    "# 정답 2 (정확성, 효율성 모두 성공)\n",
    "def solution(phone_book):\n",
    "    phone_book.sort() \n",
    "    for i in range(len(phone_book)-1):\n",
    "        if phone_book[i+1].startswith(phone_book[i]): # s.startswith() !!\n",
    "            return False\n",
    "    return True"
   ]
  }
 ],
 "metadata": {
  "kernelspec": {
   "display_name": "Python 3 (ipykernel)",
   "language": "python",
   "name": "python3"
  },
  "language_info": {
   "codemirror_mode": {
    "name": "ipython",
    "version": 3
   },
   "file_extension": ".py",
   "mimetype": "text/x-python",
   "name": "python",
   "nbconvert_exporter": "python",
   "pygments_lexer": "ipython3",
   "version": "3.9.12"
  }
 },
 "nbformat": 4,
 "nbformat_minor": 5
}
