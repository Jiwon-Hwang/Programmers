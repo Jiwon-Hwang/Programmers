{
 "cells": [
  {
   "cell_type": "code",
   "execution_count": null,
   "id": "66bae6ef",
   "metadata": {},
   "outputs": [],
   "source": [
    "from itertools import combinations\n",
    "def solution(line):\n",
    "    # 모든 교점 중 정수쌍 구하기\n",
    "    intersections = set()\n",
    "    for comb in combinations(line, 2):\n",
    "        a,b,e = comb[0]\n",
    "        c,d,f = comb[1]\n",
    "        \n",
    "        if a*d == b*c :\n",
    "            continue\n",
    "        \n",
    "        x = (b*f-e*d) / (a*d-b*c)\n",
    "        y = (e*c-a*f) / (a*d-b*c)\n",
    "        \n",
    "        if x == int(x) and y == int(y):\n",
    "            intersections.add((int(x), int(y)))\n",
    "    \n",
    "    # 교점 찍기 : y값중 최소, x값중 최소 => 평행이동\n",
    "    min_x, min_y, max_x, max_y = min(intersections)[0], min(intersections,key = lambda x: x[1])[1], max(intersections)[0], max(intersections,key = lambda x: x[1])[1]\n",
    "    \n",
    "    width = max_x - min_x + 1\n",
    "    height = max_y - min_y + 1\n",
    "    graph = [[\".\"]*width for _ in range(height)]\n",
    "    for inter_x, inter_y in intersections:\n",
    "        graph[abs(max_y-inter_y)][abs(min_x-inter_x)] = \"*\" # 주의 : 좌표평면과 배열인덱스는 반대!!!\n",
    "    \n",
    "    for i in range(height):\n",
    "        graph[i] = ''.join(graph[i])\n",
    "    \n",
    "    return graph"
   ]
  }
 ],
 "metadata": {
  "kernelspec": {
   "display_name": "Python 3",
   "language": "python",
   "name": "python3"
  },
  "language_info": {
   "codemirror_mode": {
    "name": "ipython",
    "version": 3
   },
   "file_extension": ".py",
   "mimetype": "text/x-python",
   "name": "python",
   "nbconvert_exporter": "python",
   "pygments_lexer": "ipython3",
   "version": "3.8.8"
  }
 },
 "nbformat": 4,
 "nbformat_minor": 5
}
