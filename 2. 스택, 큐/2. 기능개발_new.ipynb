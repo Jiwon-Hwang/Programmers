{
 "cells": [
  {
   "cell_type": "code",
   "execution_count": null,
   "metadata": {},
   "outputs": [],
   "source": [
    "from collections import deque\n",
    "import math\n",
    "\n",
    "def solution(progresses, speeds):\n",
    "    answer = []\n",
    "    left_days = deque([math.ceil((100 - progresses[i]) / speeds[i]) for i in range(len(progresses))])\n",
    "    cnt = 0\n",
    "    tmp_days = left_days[0]\n",
    "    while left_days:\n",
    "        if left_days[0] <= tmp_days:\n",
    "            left_days.popleft()\n",
    "            cnt += 1\n",
    "            continue\n",
    "        else:\n",
    "            answer.append(cnt)\n",
    "            cnt = 0\n",
    "            tmp_days = left_days[0]\n",
    "    answer.append(cnt)\n",
    "    \n",
    "    return answer"
   ]
  }
 ],
 "metadata": {
  "kernelspec": {
   "display_name": "Python 3",
   "language": "python",
   "name": "python3"
  },
  "language_info": {
   "codemirror_mode": {
    "name": "ipython",
    "version": 3
   },
   "file_extension": ".py",
   "mimetype": "text/x-python",
   "name": "python",
   "nbconvert_exporter": "python",
   "pygments_lexer": "ipython3",
   "version": "3.7.3"
  }
 },
 "nbformat": 4,
 "nbformat_minor": 5
}
