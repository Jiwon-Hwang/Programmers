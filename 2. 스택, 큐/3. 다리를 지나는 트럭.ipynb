{
 "cells": [
  {
   "cell_type": "code",
   "execution_count": null,
   "metadata": {},
   "outputs": [],
   "source": [
    "# 정답 (시간 초과 에러 해결! ==> len()함수 사용 x, 변수로 대체)\n",
    "def solution(bridge_length, weight, truck_weights):\n",
    "    sec = 0\n",
    "    on_bridge = [0] * bridge_length\n",
    "    weight_sum = 0 # sum() 시간초과 해결하기 위해 변수 추가\n",
    "    \n",
    "    while on_bridge: # 0조차도 다 없어지기 전까지 (빈배열이 아니면) 무한 반복\n",
    "        sec += 1 # 한번 다리(큐)를 조작할 때마다 시간은 1초씩 추가\n",
    "        tmp_pop = on_bridge.pop(0)\n",
    "        weight_sum -= tmp_pop\n",
    "        if truck_weights:\n",
    "            if weight_sum + truck_weights[0] <= weight: # sum...\n",
    "                tmp_truck = truck_weights.pop(0)\n",
    "                on_bridge.append(tmp_truck)\n",
    "                weight_sum += tmp_truck\n",
    "            else:\n",
    "                on_bridge.append(0) # 더 들어갈 수 없으면, 원래대로 0 넣기\n",
    "        \n",
    "    return sec"
   ]
  },
  {
   "cell_type": "code",
   "execution_count": null,
   "metadata": {},
   "outputs": [],
   "source": [
    "# 14개 중 1개 시간 초과... (오답)\n",
    "def solution(bridge_length, weight, truck_weights):\n",
    "    sec = 0\n",
    "    on_bridge = [0] * bridge_length\n",
    "    \n",
    "    while on_bridge: # 0조차도 다 없어지기 전까지 (빈배열이 아니면) 무한 반복\n",
    "        sec += 1\n",
    "        on_bridge.pop(0)\n",
    "        if truck_weights:\n",
    "            if sum(on_bridge) + truck_weights[0] <= weight:\n",
    "                on_bridge.append(truck_weights.pop(0))\n",
    "            else:\n",
    "                on_bridge.append(0) # 더 들어갈 수 없으면, 원래대로 0 넣기\n",
    "        \n",
    "    return sec"
   ]
  },
  {
   "cell_type": "code",
   "execution_count": 4,
   "metadata": {},
   "outputs": [
    {
     "name": "stdout",
     "output_type": "stream",
     "text": [
      "True\n"
     ]
    }
   ],
   "source": [
    "print(bool([0, 0]))"
   ]
  },
  {
   "cell_type": "code",
   "execution_count": null,
   "metadata": {},
   "outputs": [],
   "source": [
    "def solution(bridge_length, weight, truck_weights):\n",
    "    sec = 0\n",
    "    on_bridge = []\n",
    "    pass_bridge = []\n",
    "    weight_sum = 0 #걍 on_bridge 배열 총합으로 구하면 됨 ==> 계속 배열 처음부터 순회하는 거 너무 오래걸림\n",
    "    state_check = [0] * len(truck_weights) # 각 트럭의 현위치\n",
    "    i = -1 # 각 트럭 인덱스\n",
    "    \n",
    "    while truck_weights != False:\n",
    "        i += 1 # i : 7짜리 트럭\n",
    "        tmp_truck = truck_weights.pop(0)\n",
    "        on_bridge.append(tmp_truck)\n",
    "        weight_sum += tmp_truck\n",
    "        sec += 1\n",
    "        state_check[i] += 1\n",
    "        print(state_check)\n",
    "        while True:\n",
    "            # 한대 더 들어갈 수 있으면 ==> 탈출해서 맨 바깥 반복문으로 ㄱㄱ (앞에꺼 하나 나가면 더 들어올 수 있는가?)\n",
    "            if len(on_bridge) < bridge_length and weight_sum < weight: # len() 시간 오래걸리면.. 변수 하나 만들기\n",
    "                sec += 1\n",
    "                break\n",
    "            # 한대 더 들어갈 수 없으면 ==> 그냥 진행.. 초 추가\n",
    "            sec += 1\n",
    "        \n",
    "        \n",
    "    \n",
    "    \n",
    "    return"
   ]
  },
  {
   "cell_type": "code",
   "execution_count": 2,
   "metadata": {},
   "outputs": [
    {
     "name": "stdout",
     "output_type": "stream",
     "text": [
      "True\n"
     ]
    }
   ],
   "source": [
    "a = [1,2,3]\n",
    "print(a != [])"
   ]
  },
  {
   "cell_type": "code",
   "execution_count": 3,
   "metadata": {},
   "outputs": [
    {
     "name": "stdout",
     "output_type": "stream",
     "text": [
      "[0, 0, 0, 0]\n"
     ]
    }
   ],
   "source": [
    "a = [1,2,3,4]\n",
    "b = [0] * len(a)\n",
    "print(b)"
   ]
  }
 ],
 "metadata": {
  "kernelspec": {
   "display_name": "Python 3",
   "language": "python",
   "name": "python3"
  },
  "language_info": {
   "codemirror_mode": {
    "name": "ipython",
    "version": 3
   },
   "file_extension": ".py",
   "mimetype": "text/x-python",
   "name": "python",
   "nbconvert_exporter": "python",
   "pygments_lexer": "ipython3",
   "version": "3.7.3"
  }
 },
 "nbformat": 4,
 "nbformat_minor": 2
}
