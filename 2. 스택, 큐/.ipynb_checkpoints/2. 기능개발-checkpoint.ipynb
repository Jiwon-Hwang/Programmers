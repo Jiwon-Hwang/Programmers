{
 "cells": [
  {
   "cell_type": "code",
   "execution_count": null,
   "metadata": {},
   "outputs": [],
   "source": [
    "def solution(progresses, speeds):\n",
    "    import math\n",
    "    \n",
    "    answer = []\n",
    "    l = len(progresses)\n",
    "    left_days = [math.ceil((100-progresses[i])/speeds[i]) for i in range(l)]\n",
    "    \n",
    "    baepo_num = 1\n",
    "    tmp_max = left_days[0]\n",
    "    for item in left_days[1:]:\n",
    "        if item > tmp_max: # 같아도 continue\n",
    "            answer.append(baepo_num)\n",
    "            tmp_max = item\n",
    "            baepo_num = 1\n",
    "            continue\n",
    "        baepo_num += 1\n",
    "    answer.append(baepo_num)\n",
    "    \n",
    "    return answer"
   ]
  }
 ],
 "metadata": {
  "kernelspec": {
   "display_name": "Python 3",
   "language": "python",
   "name": "python3"
  },
  "language_info": {
   "codemirror_mode": {
    "name": "ipython",
    "version": 3
   },
   "file_extension": ".py",
   "mimetype": "text/x-python",
   "name": "python",
   "nbconvert_exporter": "python",
   "pygments_lexer": "ipython3",
   "version": "3.7.3"
  }
 },
 "nbformat": 4,
 "nbformat_minor": 2
}
