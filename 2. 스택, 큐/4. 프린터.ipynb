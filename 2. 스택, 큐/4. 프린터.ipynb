{
 "cells": [
  {
   "cell_type": "code",
   "execution_count": null,
   "metadata": {},
   "outputs": [],
   "source": [
    "# 일부 통과, 일부 시간초과 코드...\n",
    "def solution(priorities, location):\n",
    "    location_list = [i for i in range(len(priorities))]\n",
    "    order = 0\n",
    "    tmp_max = max(priorities)\n",
    "    while priorities:\n",
    "        tmp_p = priorities.pop(0)\n",
    "        tmp_l = location_list.pop(0)\n",
    "        if tmp_p >= tmp_max:\n",
    "            if tmp_l == location:\n",
    "                order += 1\n",
    "                break\n",
    "            tmp_max = tmp_p\n",
    "            order += 1\n",
    "        else:\n",
    "            priorities.append(tmp_p)\n",
    "            location_list.append(tmp_l)\n",
    "            \n",
    "    return order"
   ]
  },
  {
   "cell_type": "code",
   "execution_count": null,
   "metadata": {},
   "outputs": [],
   "source": [
    "# 이것도 똑같이 시간 초과.. (위랑 똑같은 점수)\n",
    "def solution(priorities, location):\n",
    "    lp = [(l, p) for l, p in enumerate(priorities)]\n",
    "    #location_list = [i for i in range(len(priorities))]\n",
    "    order = 0\n",
    "    tmp_max = max(priorities)\n",
    "    while lp:\n",
    "        tmp_lp = lp.pop(0)\n",
    "        if tmp_lp[1] >= tmp_max:\n",
    "            if tmp_lp[0] == location:\n",
    "                order += 1\n",
    "                break\n",
    "            tmp_max = tmp_lp[1]\n",
    "            order += 1\n",
    "        else:\n",
    "            lp.append(tmp_lp)\n",
    "            \n",
    "    return order"
   ]
  },
  {
   "cell_type": "markdown",
   "metadata": {},
   "source": [
    "enumerate는 \"열거하다\"라는 뜻이다.  \n",
    "이 함수는 순서가 있는 자료형(리스트, 튜플, 문자열)을 입력으로 받아 인덱스 값을 포함하는 enumerate 객체를 돌려준다.\n",
    "\n",
    ">※ 보통 enumerate 함수는 다음 예제처럼 for문과 함께 자주 사용한다."
   ]
  },
  {
   "cell_type": "code",
   "execution_count": 4,
   "metadata": {},
   "outputs": [
    {
     "name": "stdout",
     "output_type": "stream",
     "text": [
      "[(0, 2), (1, 1), (2, 3), (3, 2)]\n",
      "(0, 2)\n"
     ]
    }
   ],
   "source": [
    "test = [2, 1, 3, 2]\n",
    "l = [(i, p) for i, p in enumerate(test)]\n",
    "print(l)\n",
    "print(l.pop(0))"
   ]
  }
 ],
 "metadata": {
  "kernelspec": {
   "display_name": "Python 3",
   "language": "python",
   "name": "python3"
  },
  "language_info": {
   "codemirror_mode": {
    "name": "ipython",
    "version": 3
   },
   "file_extension": ".py",
   "mimetype": "text/x-python",
   "name": "python",
   "nbconvert_exporter": "python",
   "pygments_lexer": "ipython3",
   "version": "3.7.3"
  }
 },
 "nbformat": 4,
 "nbformat_minor": 2
}
