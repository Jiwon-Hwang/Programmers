{
 "cells": [
  {
   "cell_type": "code",
   "execution_count": null,
   "metadata": {},
   "outputs": [],
   "source": [
    "# 정답 (set()이용, 빌려준 사람인 reserve를 제거해가기)\n",
    "def solution(n, lost, reserve):\n",
    "    intersection = set(lost) & set(reserve)\n",
    "    lost_set = set(lost) - intersection\n",
    "    reserve_set = set(reserve) - intersection\n",
    "    \n",
    "    ok = 0\n",
    "    for l in lost_set:\n",
    "        if reserve_set == {}:\n",
    "            break\n",
    "        if l-1 in reserve_set:\n",
    "            ok += 1\n",
    "            reserve_set.remove(l-1)        \n",
    "        elif l+1 in reserve_set:\n",
    "            ok += 1\n",
    "            reserve_set.remove(l+1)\n",
    "            \n",
    "    return n - (len(lost_set) - ok)"
   ]
  },
  {
   "cell_type": "code",
   "execution_count": null,
   "metadata": {},
   "outputs": [],
   "source": [
    "# 다른 풀이 (빌려갈 수 있는 사람 수를 ok에 저장하지 않고, lost에서 바로 제거해가기)\n",
    "def solution(n, lost, reserve):\n",
    "    s = set(lost) & set(reserve)\n",
    "    l = set(lost) - s\n",
    "    r = set(reserve) - s\n",
    "    for x in sorted(r):  # sorted: r에 들어가 있는 집합을 정렬한 리스트를 반환\n",
    "        if x - 1 in l:\n",
    "            l.remove(x-1) # remove는 리스트에서 매개변수로 들어온 값을 통해서 삭제\n",
    "        elif x + 1 in l:\n",
    "            l.remove(x+1)\n",
    "    return n-len(l)"
   ]
  },
  {
   "cell_type": "code",
   "execution_count": null,
   "metadata": {},
   "outputs": [],
   "source": [
    "# 첫번째 접근 (초기에 중복제거 안해줘서 오류) \n",
    "def solution(n, lost, reserve):\n",
    "    lost.sort()\n",
    "    reserve.sort()\n",
    "    ok = 0\n",
    "    for l in lost:\n",
    "        if reserve != []:\n",
    "            if l in reserve:\n",
    "                ok += 1\n",
    "                reserve.remove(l)\n",
    "            elif l-1 in reserve:\n",
    "                ok += 1\n",
    "                reserve.remove(l-1)        \n",
    "            elif l+1 in reserve:\n",
    "                ok += 1\n",
    "                reserve.remove(l+1)\n",
    "        else:\n",
    "            break\n",
    "    return n - (len(lost) - ok)"
   ]
  },
  {
   "cell_type": "markdown",
   "metadata": {},
   "source": [
    "<hr>"
   ]
  },
  {
   "cell_type": "markdown",
   "metadata": {},
   "source": [
    "## sol"
   ]
  },
  {
   "cell_type": "markdown",
   "metadata": {},
   "source": [
    "* 1. lost와 reserve 둘 다 껴있는 애들 중복 제거 (set 이용)  \n",
    "  \n",
    "lost 입장에서 하나씩 체크하는데, 이 때 reserve에 남은 애가 더이상 없으면 ( {} ) break  \n",
    "  \n",
    "* 2. 앞에 애꺼 있으면 (l-1) 빌리고 ok++, remove(l-1) 한 후 끝  \n",
    "* 3. 앞에 애꺼 없으면 뒤에 애꺼 (l+1) 빌리고 ok++, remove(l+1) 한 후 끝"
   ]
  },
  {
   "cell_type": "markdown",
   "metadata": {},
   "source": [
    "## < 집합자료형 set() >"
   ]
  },
  {
   "cell_type": "markdown",
   "metadata": {},
   "source": [
    "* 처음에 lost와 reserve의 **중복 요소를 제거**해야 하므로 **set** 자료형으로 형변환\n",
    "* 또한, 각 요소의 **인덱스(순서)가 필요 없으므로**, **list 대신 set** 자료형 사용"
   ]
  },
  {
   "cell_type": "code",
   "execution_count": 1,
   "metadata": {
    "scrolled": true
   },
   "outputs": [
    {
     "data": {
      "text/plain": [
       "False"
      ]
     },
     "execution_count": 1,
     "metadata": {},
     "output_type": "execute_result"
    }
   ],
   "source": [
    "bool({})"
   ]
  },
  {
   "cell_type": "code",
   "execution_count": 10,
   "metadata": {
    "scrolled": true
   },
   "outputs": [
    {
     "name": "stdout",
     "output_type": "stream",
     "text": [
      "1\n",
      "2\n",
      "3\n"
     ]
    }
   ],
   "source": [
    "# set은 중복도 없고 순서도 없지만, 출력 시 담긴 순서대로 앞에서부터 출력한다. (랜덤x)\n",
    "test_set = {1,2,3}\n",
    "for t in test_set:\n",
    "    print(t)"
   ]
  }
 ],
 "metadata": {
  "kernelspec": {
   "display_name": "Python 3",
   "language": "python",
   "name": "python3"
  },
  "language_info": {
   "codemirror_mode": {
    "name": "ipython",
    "version": 3
   },
   "file_extension": ".py",
   "mimetype": "text/x-python",
   "name": "python",
   "nbconvert_exporter": "python",
   "pygments_lexer": "ipython3",
   "version": "3.7.3"
  }
 },
 "nbformat": 4,
 "nbformat_minor": 2
}
