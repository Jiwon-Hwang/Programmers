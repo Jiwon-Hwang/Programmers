{
 "cells": [
  {
   "cell_type": "code",
   "execution_count": 9,
   "metadata": {},
   "outputs": [
    {
     "name": "stdout",
     "output_type": "stream",
     "text": [
      "1\n",
      "1\n"
     ]
    }
   ],
   "source": [
    "number = '1924'\n",
    "k=2\n",
    "x=0\n",
    "num_l = len(number)\n",
    "l = num_l - k \n",
    "answer = [0 for _ in range(l)]\n",
    "i = 0 \n",
    "\n",
    "tmp_max = max(number[i:l-x-1])\n",
    "print(number[i:l-x-1])\n",
    "print(tmp_max)"
   ]
  },
  {
   "cell_type": "code",
   "execution_count": 1,
   "metadata": {},
   "outputs": [
    {
     "data": {
      "text/plain": [
       "'9'"
      ]
     },
     "execution_count": 1,
     "metadata": {},
     "output_type": "execute_result"
    }
   ],
   "source": [
    "max('12349')"
   ]
  },
  {
   "cell_type": "code",
   "execution_count": 2,
   "metadata": {},
   "outputs": [
    {
     "data": {
      "text/plain": [
       "2"
      ]
     },
     "execution_count": 2,
     "metadata": {},
     "output_type": "execute_result"
    }
   ],
   "source": [
    "'12345'.index('3')"
   ]
  },
  {
   "cell_type": "code",
   "execution_count": null,
   "metadata": {},
   "outputs": [],
   "source": [
    "def solution(number, k):\n",
    "    num_l = len(number)\n",
    "    l = num_l - k \n",
    "    answer = ['0' for _ in range(l)]\n",
    "    i = 0 \n",
    "    \n",
    "    for x in range(l):\n",
    "        if num_l - i == l - x :\n",
    "            answer[x+1:] = number[i+1:]\n",
    "            break\n",
    "        tmp_max = max(number[i:k+x+1])\n",
    "        \n",
    "        for t in range(i, k+x+1):\n",
    "            if number[t] != tmp_max:\n",
    "                continue\n",
    "            answer[x] = tmp_max\n",
    "            i = number.index(tmp_max) + 1\n",
    "        \n",
    "            \n",
    "    return ''.join(answer)\n",
    "            \n",
    "        \n"
   ]
  },
  {
   "cell_type": "code",
   "execution_count": null,
   "metadata": {},
   "outputs": [],
   "source": [
    "def solution(number, k):\n",
    "    num_l = len(number)\n",
    "    l = num_l - k \n",
    "    answer = [0 for _ in range(l)]\n",
    "    i = 0 \n",
    "    \n",
    "    for x in range(l):\n",
    "        answer[x] = number[i]\n",
    "        print('첫번째 초기화 숫자, i :',number[i], i)\n",
    "        '''\n",
    "        if num_l - i == l - x :\n",
    "            print('떨거지는..? :', number[i+1:])\n",
    "            answer[x+1:] = number[i+1:]\n",
    "            return ''.join(answer)\n",
    "        '''\n",
    "        while num_l - i != l - x :\n",
    "            i += 1\n",
    "            print(i)\n",
    "            if int(answer[x]) < int(number[i]) :\n",
    "                answer[x] = number[i]\n",
    "                continue\n",
    "            elif int(answer[x]) == int(number[i]):\n",
    "                i+=1\n",
    "                break\n",
    "            \n",
    "    return ''.join(answer)"
   ]
  },
  {
   "cell_type": "code",
   "execution_count": null,
   "metadata": {},
   "outputs": [],
   "source": [
    "def solution(number, k):\n",
    "    num_l = len(number)\n",
    "    l = num_l - k # k개 제거후 남은 자리수\n",
    "    answer = [0 for _ in range(l)]\n",
    "    i = 0 # number의 각 자리 숫자 탐색할 index\n",
    "    for x in range(l): # x : 채울 l자리수 각각의 자리 index\n",
    "        answer[x] = number[i] # 처음에 맨 앞 값으로 초기화\n",
    "        print('첫번째 초기화 숫자 :',number[i])\n",
    "        if num_l - i - 1 == l - x : # 같아지는 순간 끝!\n",
    "            print('떨거지는..? :', number[i+1:])\n",
    "            answer[x+1:] = number[i+1:]\n",
    "            return ''.join(answer)\n",
    "        while num_l - i - 1 != l - x :\n",
    "            i += 1\n",
    "            if int(answer[x]) <= int(number[i]) :\n",
    "                answer[x] = number[i]\n",
    "                i += 1\n",
    "                break\n",
    "        \n",
    "    return ''.join(answer)"
   ]
  },
  {
   "cell_type": "markdown",
   "metadata": {},
   "source": [
    "<hr>"
   ]
  },
  {
   "cell_type": "markdown",
   "metadata": {},
   "source": [
    "## sol"
   ]
  },
  {
   "cell_type": "markdown",
   "metadata": {},
   "source": [
    "* 1. lost와 reserve 둘 다 껴있는 애들 중복 제거 (set 이용)  \n",
    "  \n",
    "lost 입장에서 하나씩 체크하는데, 이 때 reserve에 남은 애가 더이상 없으면 ( {} ) break  \n",
    "  \n",
    "* 2. 앞에 애꺼 있으면 (l-1) 빌리고 ok++, remove(l-1) 한 후 끝  \n",
    "* 3. 앞에 애꺼 없으면 뒤에 애꺼 (l+1) 빌리고 ok++, remove(l+1) 한 후 끝"
   ]
  },
  {
   "cell_type": "markdown",
   "metadata": {},
   "source": [
    "## < 집합자료형 set() >"
   ]
  },
  {
   "cell_type": "markdown",
   "metadata": {},
   "source": [
    "* 처음에 lost와 reserve의 **중복 요소를 제거**해야 하므로 **set** 자료형으로 형변환\n",
    "* 또한, 각 요소의 **인덱스(순서)가 필요 없으므로**, **list 대신 set** 자료형 사용"
   ]
  },
  {
   "cell_type": "code",
   "execution_count": 1,
   "metadata": {
    "scrolled": true
   },
   "outputs": [
    {
     "data": {
      "text/plain": [
       "False"
      ]
     },
     "execution_count": 1,
     "metadata": {},
     "output_type": "execute_result"
    }
   ],
   "source": [
    "bool({})"
   ]
  },
  {
   "cell_type": "code",
   "execution_count": 10,
   "metadata": {
    "scrolled": true
   },
   "outputs": [
    {
     "name": "stdout",
     "output_type": "stream",
     "text": [
      "1\n",
      "2\n",
      "3\n"
     ]
    }
   ],
   "source": [
    "# set은 중복도 없고 순서도 없지만, 출력 시 담긴 순서대로 앞에서부터 출력한다. (랜덤x)\n",
    "test_set = {1,2,3}\n",
    "for t in test_set:\n",
    "    print(t)"
   ]
  }
 ],
 "metadata": {
  "kernelspec": {
   "display_name": "Python 3",
   "language": "python",
   "name": "python3"
  },
  "language_info": {
   "codemirror_mode": {
    "name": "ipython",
    "version": 3
   },
   "file_extension": ".py",
   "mimetype": "text/x-python",
   "name": "python",
   "nbconvert_exporter": "python",
   "pygments_lexer": "ipython3",
   "version": "3.7.3"
  }
 },
 "nbformat": 4,
 "nbformat_minor": 2
}
