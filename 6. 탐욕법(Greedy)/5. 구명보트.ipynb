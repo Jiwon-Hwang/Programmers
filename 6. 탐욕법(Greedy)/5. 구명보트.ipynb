{
 "cells": [
  {
   "cell_type": "code",
   "execution_count": null,
   "id": "6f1fc8ce",
   "metadata": {},
   "outputs": [],
   "source": [
    "# 정확성 정답, 효율성 오답 (테스트케이스 1번)\n",
    "def solution(people, limit):\n",
    "    people.sort() # [10, 50, 50, 70, 80, 100] \n",
    "    cnt = 0\n",
    "    \n",
    "    while people: # sol1) pop 사용\n",
    "        j = len(people) - 1\n",
    "        tmp = people[0]\n",
    "        if tmp + people[j] <= limit:\n",
    "            people.pop(0)\n",
    "        \n",
    "        cnt += 1\n",
    "        if people : people.pop() \n",
    "        \n",
    "    \n",
    "    return cnt"
   ]
  },
  {
   "cell_type": "code",
   "execution_count": null,
   "id": "6929edb7",
   "metadata": {},
   "outputs": [],
   "source": [
    "# 정답 (sol1) => deque, popleft, pop\n",
    "from collections import deque\n",
    "\n",
    "def solution(people, limit):\n",
    "    people.sort() # [10, 50, 50, 70, 80, 100] \n",
    "    queue = deque(people)\n",
    "    cnt = 0\n",
    "    \n",
    "    while queue: # sol1) pop 사용\n",
    "        j = len(queue) - 1\n",
    "        if queue[0] + queue[j] <= limit:\n",
    "            queue.popleft()\n",
    "        cnt += 1\n",
    "        if queue : queue.pop()\n",
    "        \n",
    "    \n",
    "    return cnt"
   ]
  },
  {
   "cell_type": "code",
   "execution_count": null,
   "id": "664768b7",
   "metadata": {},
   "outputs": [],
   "source": [
    "# 정답 (sol2) => pop안쓰고 투포인터로 (더 빠르고 메모리 덜 차지)\n",
    "def solution(people, limit):\n",
    "    people.sort()\n",
    "    cnt = 0\n",
    "    i, j = 0, len(people)-1\n",
    "    \n",
    "    while i <= j:\n",
    "        if people[i] + people[j] <= limit:\n",
    "            i += 1\n",
    "        cnt += 1\n",
    "        j -= 1\n",
    "        \n",
    "    return cnt"
   ]
  }
 ],
 "metadata": {
  "kernelspec": {
   "display_name": "Python 3 (ipykernel)",
   "language": "python",
   "name": "python3"
  },
  "language_info": {
   "codemirror_mode": {
    "name": "ipython",
    "version": 3
   },
   "file_extension": ".py",
   "mimetype": "text/x-python",
   "name": "python",
   "nbconvert_exporter": "python",
   "pygments_lexer": "ipython3",
   "version": "3.9.12"
  }
 },
 "nbformat": 4,
 "nbformat_minor": 5
}
