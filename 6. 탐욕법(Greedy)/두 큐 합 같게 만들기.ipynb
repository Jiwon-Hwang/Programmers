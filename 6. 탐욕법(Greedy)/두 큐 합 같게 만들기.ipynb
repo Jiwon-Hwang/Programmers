{
 "cells": [
  {
   "cell_type": "code",
   "execution_count": null,
   "id": "717e8778",
   "metadata": {},
   "outputs": [],
   "source": [
    "from collections import deque\n",
    "def solution(queue1, queue2):\n",
    "    # 예외처리\n",
    "    sum1, sum2 = sum(queue1), sum(queue2)\n",
    "    total = sum1 + sum2\n",
    "    if total % 2 == 1 or max(queue1) > total/2 or max(queue2) > total/2:\n",
    "        return -1\n",
    "    if sum1 == sum2:\n",
    "        return 0\n",
    "    \n",
    "    total = int(total/2)\n",
    "    q1, q2 = deque(queue1), deque(queue2)\n",
    "    cnt = 0\n",
    "    \n",
    "    # greedy\n",
    "    while True:\n",
    "        if cnt >= 300000: # 시간초과 방지 및 예외처리\n",
    "            return -1\n",
    "        \n",
    "        if sum1 == sum2: # 종료 조건\n",
    "            return cnt\n",
    "        \n",
    "        if sum1 < sum2:\n",
    "            tmp = q2.popleft()\n",
    "            q1.append(tmp)\n",
    "            sum1 += tmp\n",
    "            sum2 -= tmp\n",
    "        \n",
    "        else:\n",
    "            tmp = q1.popleft()\n",
    "            q2.append(tmp)\n",
    "            sum1 -= tmp\n",
    "            sum2 += tmp\n",
    "            \n",
    "        cnt += 1\n",
    "    "
   ]
  }
 ],
 "metadata": {
  "kernelspec": {
   "display_name": "Python 3",
   "language": "python",
   "name": "python3"
  },
  "language_info": {
   "codemirror_mode": {
    "name": "ipython",
    "version": 3
   },
   "file_extension": ".py",
   "mimetype": "text/x-python",
   "name": "python",
   "nbconvert_exporter": "python",
   "pygments_lexer": "ipython3",
   "version": "3.8.8"
  }
 },
 "nbformat": 4,
 "nbformat_minor": 5
}
