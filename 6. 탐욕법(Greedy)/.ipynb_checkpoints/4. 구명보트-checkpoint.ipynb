{
 "cells": [
  {
   "cell_type": "code",
   "execution_count": null,
   "metadata": {},
   "outputs": [],
   "source": [
    "# greedy 고려 x 코드! ==> 제일 작은거 + 제일 큰거 담으면 최대 효율! (***인덱스 앞 뒤로 2개 써서 더하기***)\n",
    "def solution(people, limit):\n",
    "    people.sort()\n",
    "    cnt = 0\n",
    "    l = len(people)\n",
    "    \n",
    "    tmp_limit = limit\n",
    "    p = 0 # 타고 있는 사람 수 (최대 2명)\n",
    "    for i in range(l):\n",
    "        tmp_person = people[i]\n",
    "        if tmp_limit >= tmp_person and p < 2:\n",
    "            tmp_limit -= tmp_person\n",
    "            p += 1\n",
    "            continue\n",
    "        cnt += 1\n",
    "        tmp_limit = limit - tmp_person\n",
    "        p = 1\n",
    "        \n",
    "    return cnt + 1"
   ]
  },
  {
   "cell_type": "markdown",
   "metadata": {},
   "source": [
    "<hr>"
   ]
  },
  {
   "cell_type": "markdown",
   "metadata": {},
   "source": [
    "## sol"
   ]
  },
  {
   "cell_type": "markdown",
   "metadata": {},
   "source": [
    "<hr>"
   ]
  }
 ],
 "metadata": {
  "kernelspec": {
   "display_name": "Python 3",
   "language": "python",
   "name": "python3"
  },
  "language_info": {
   "codemirror_mode": {
    "name": "ipython",
    "version": 3
   },
   "file_extension": ".py",
   "mimetype": "text/x-python",
   "name": "python",
   "nbconvert_exporter": "python",
   "pygments_lexer": "ipython3",
   "version": "3.7.3"
  }
 },
 "nbformat": 4,
 "nbformat_minor": 2
}
