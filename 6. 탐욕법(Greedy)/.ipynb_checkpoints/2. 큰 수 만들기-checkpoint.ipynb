{
 "cells": [
  {
   "cell_type": "code",
   "execution_count": null,
   "metadata": {},
   "outputs": [],
   "source": [
    "# 정답!\n",
    "def solution(number, k):\n",
    "    num_l = len(number)\n",
    "    l = num_l - k \n",
    "    answer = ['0' for _ in range(l)]\n",
    "    i = 0 \n",
    "    \n",
    "    for x in range(l):\n",
    "        if i == k+x :\n",
    "            answer[x:] = number[i:]\n",
    "            return ''.join(answer)\n",
    "        \n",
    "        tmp_list = number[i:k+x+1]\n",
    "        # tmp_max = max(tmp_list) ==> 테스트케이스 10번 시간초과 오류!\n",
    "        \n",
    "        # tmp_max 구하기\n",
    "        tmp_max = '0'\n",
    "        for m in tmp_list:\n",
    "            # '9'보다 큰 수는 없으니, '9'만나면 바로 break해주기! (999999... 와 같은 숫자 예외처리)\n",
    "            if m == '9':\n",
    "                tmp_max = '9'\n",
    "                break\n",
    "            elif m > tmp_max:\n",
    "                tmp_max = m\n",
    "                continue\n",
    "                \n",
    "        # tmp_max의 index 구하기\n",
    "        for tt in tmp_list:\n",
    "            if tt == tmp_max:\n",
    "                answer[x] = tmp_max\n",
    "                i += 1\n",
    "                break\n",
    "            i += 1\n",
    "\n",
    "    return ''.join(answer)"
   ]
  },
  {
   "cell_type": "code",
   "execution_count": null,
   "metadata": {},
   "outputs": [],
   "source": [
    "# 테스트케이스 10번 오류 코드 ==> 리스트 복사(슬라이싱) & 999999... 이런 숫자 예외처리 필요\n",
    "def solution(number, k):\n",
    "    num_l = len(number)\n",
    "    l = num_l - k \n",
    "    answer = ['0' for _ in range(l)]\n",
    "    i = 0 \n",
    "    \n",
    "    for x in range(l):\n",
    "        if i == k+x : # 떨거지들 뒤에 다 붙이기\n",
    "            answer[x:] = number[i:]\n",
    "            #print('떨거지들? :', number[i:])\n",
    "            break\n",
    "            \n",
    "        tmp_max = max(number[i:k+x+1])\n",
    "        #print(number[i:k+x+1], tmp_max)\n",
    "        \n",
    "        for tt in number[i:k+x+1]:\n",
    "            if tt == tmp_max:\n",
    "                answer[x] = tmp_max\n",
    "                i += 1\n",
    "                break\n",
    "            i += 1\n",
    "            #i = number.index(tmp_max) + 1  ==> 오류! 이러면 맨 앞 인덱스만 찾아줌 (77이면 앞의 7밖에 못찾음)\n",
    "\n",
    "    return ''.join(answer)"
   ]
  },
  {
   "cell_type": "markdown",
   "metadata": {},
   "source": [
    "<hr>"
   ]
  },
  {
   "cell_type": "markdown",
   "metadata": {},
   "source": [
    "## sol"
   ]
  },
  {
   "cell_type": "markdown",
   "metadata": {},
   "source": [
    "* 1. len(number) - k 만큼의 배열 answer을 채워나간다.\n",
    "  \n",
    "* 2. answer 배열의 각 칸에 올 수 있는 애들 전체 중 (슬라이싱), max와 그 max의 인덱스를 계속 저장해나간다. \n",
    "  \n",
    "* 3. 이 때, 뒤에 남은 것들 다 붙일 수 밖에 없을 때에는 뒤에 다 갖다 붙이고 종료한다."
   ]
  },
  {
   "cell_type": "markdown",
   "metadata": {},
   "source": [
    "<hr>"
   ]
  },
  {
   "cell_type": "markdown",
   "metadata": {},
   "source": [
    "## < 리스트 슬라이싱 >"
   ]
  },
  {
   "cell_type": "markdown",
   "metadata": {},
   "source": [
    "* 리스트 슬라이싱 하는 것 자체가 계속 복사를 하는 행위이므로, **시간 초과**를 유발할 수 있다."
   ]
  },
  {
   "cell_type": "markdown",
   "metadata": {},
   "source": [
    "## < greedy(탐욕법)과 max() >"
   ]
  },
  {
   "cell_type": "markdown",
   "metadata": {},
   "source": [
    "* max() 함수의 효율은 좋지 않은 편이므로(**시간초과** 유발 가능성), 웬만하면 **max()** 함수로 리스트 전체 탐색하는 방법 말고   \n",
    "### **for문과 if문**을 함께 사용해 **\"탈출 조건\"**을 만들어주자!\n",
    "\n",
    "> ※ 리스트 함수 중 **index(), pop(0), max()** 는 주의해서 사용하자 ※"
   ]
  },
  {
   "cell_type": "markdown",
   "metadata": {},
   "source": [
    "```py\n",
    "# ex. tmp_max 구하기\n",
    "tmp_max = '0'\n",
    "    for m in tmp_list:\n",
    "        # '9'보다 큰 수는 없으니, '9'만나면 바로 break해주기! ==> \"탈출조건\"\n",
    "        if m == '9':\n",
    "            tmp_max = '9'\n",
    "            break\n",
    "        elif m > tmp_max:\n",
    "            tmp_max = m\n",
    "            continue\n",
    "```"
   ]
  },
  {
   "cell_type": "markdown",
   "metadata": {},
   "source": [
    "## < 문자열의 max(), index() >\n",
    "* 리스트와 똑같이 사용 가능하다"
   ]
  },
  {
   "cell_type": "code",
   "execution_count": 1,
   "metadata": {},
   "outputs": [
    {
     "data": {
      "text/plain": [
       "'9'"
      ]
     },
     "execution_count": 1,
     "metadata": {},
     "output_type": "execute_result"
    }
   ],
   "source": [
    "max('12349')"
   ]
  },
  {
   "cell_type": "code",
   "execution_count": 2,
   "metadata": {},
   "outputs": [
    {
     "data": {
      "text/plain": [
       "2"
      ]
     },
     "execution_count": 2,
     "metadata": {},
     "output_type": "execute_result"
    }
   ],
   "source": [
    "'12345'.index('3')"
   ]
  }
 ],
 "metadata": {
  "kernelspec": {
   "display_name": "Python 3",
   "language": "python",
   "name": "python3"
  },
  "language_info": {
   "codemirror_mode": {
    "name": "ipython",
    "version": 3
   },
   "file_extension": ".py",
   "mimetype": "text/x-python",
   "name": "python",
   "nbconvert_exporter": "python",
   "pygments_lexer": "ipython3",
   "version": "3.7.3"
  }
 },
 "nbformat": 4,
 "nbformat_minor": 2
}
