{
 "cells": [
  {
   "cell_type": "code",
   "execution_count": null,
   "metadata": {},
   "outputs": [],
   "source": [
    "# 첫번째 접근 (실행 통과, 2개 오답)\n",
    "def solution(n, lost, reserve):\n",
    "    lost.sort()\n",
    "    reserve.sort()\n",
    "    ok = 0\n",
    "    for l in lost:\n",
    "        if reserve != []:\n",
    "            if l in reserve:\n",
    "                ok += 1\n",
    "                reserve.remove(l)\n",
    "            elif l-1 in reserve:\n",
    "                ok += 1\n",
    "                reserve.remove(l-1)        \n",
    "            elif l+1 in reserve:\n",
    "                ok += 1\n",
    "                reserve.remove(l+1)\n",
    "        else:\n",
    "            break\n",
    "    return n - (len(lost) - ok)"
   ]
  },
  {
   "cell_type": "markdown",
   "metadata": {},
   "source": [
    "<hr>"
   ]
  },
  {
   "cell_type": "markdown",
   "metadata": {},
   "source": [
    "## < dp & 점화식(max) >"
   ]
  },
  {
   "cell_type": "markdown",
   "metadata": {},
   "source": [
    "* 집 개수를 1개일 때, 2개일 때, 3개... 이렇게 하나씩 늘려가면서 생각한다.\n",
    "* 원형이 아니라 직선의 형태로 이어져 있다고 생각한다."
   ]
  },
  {
   "cell_type": "markdown",
   "metadata": {},
   "source": [
    "```py\n",
    "dp[i] #  i번째 집까지 털었을 때 그 때까지의 최댓값\n",
    "```"
   ]
  },
  {
   "cell_type": "markdown",
   "metadata": {},
   "source": [
    "### [기본 로직]\n",
    "1) i-1번째 집을 털었을 경우 (i번째 집 못 털음)\n",
    "```py\n",
    "dp[i] = dp[i-1]\n",
    "```\n",
    "      \n",
    "2) i-1번째 집을 털지 않았을 경우 (i번째 집 털 수 있음)\n",
    "```py\n",
    "dp[i] = dp[i-2] + money[i]\n",
    "```"
   ]
  },
  {
   "cell_type": "markdown",
   "metadata": {},
   "source": [
    "### [고려 사항]\n",
    "1) 첫 집을 털었을 때 (마지막 집 못 털음)  \n",
    "  \n",
    "2) 첫 집을 털지 않았을 때 (마지막 집은 털 수도, 안 털수도 있음)"
   ]
  }
 ],
 "metadata": {
  "kernelspec": {
   "display_name": "Python 3",
   "language": "python",
   "name": "python3"
  },
  "language_info": {
   "codemirror_mode": {
    "name": "ipython",
    "version": 3
   },
   "file_extension": ".py",
   "mimetype": "text/x-python",
   "name": "python",
   "nbconvert_exporter": "python",
   "pygments_lexer": "ipython3",
   "version": "3.7.3"
  }
 },
 "nbformat": 4,
 "nbformat_minor": 2
}
