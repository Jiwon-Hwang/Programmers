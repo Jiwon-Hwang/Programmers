{
 "cells": [
  {
   "cell_type": "code",
   "execution_count": null,
   "id": "cdb0f9cc",
   "metadata": {},
   "outputs": [],
   "source": [
    "def solution(routes):\n",
    "    routes.sort(key = lambda x : x[1]) # 빠져나간 시간 기준으로 오름차순 정렬\n",
    "    camera = routes[0][1] # 첫번째 차 빠져나간 곳(\"진출 기준\")에 우선 첫번째 카메라 설치하고 시작\n",
    "    cnt = 1\n",
    "    \n",
    "    for i in range(1, len(routes)):\n",
    "        if routes[i][0] > camera: # 진입 시점이 기존 카메라 위치보다 더 밖(앞)에 있으면\n",
    "            cnt += 1\n",
    "            camera = routes[i][1] # 진출 시점에 새로 설치\n",
    "            \n",
    "    \n",
    "    return cnt"
   ]
  }
 ],
 "metadata": {
  "kernelspec": {
   "display_name": "Python 3 (ipykernel)",
   "language": "python",
   "name": "python3"
  },
  "language_info": {
   "codemirror_mode": {
    "name": "ipython",
    "version": 3
   },
   "file_extension": ".py",
   "mimetype": "text/x-python",
   "name": "python",
   "nbconvert_exporter": "python",
   "pygments_lexer": "ipython3",
   "version": "3.9.12"
  }
 },
 "nbformat": 4,
 "nbformat_minor": 5
}
